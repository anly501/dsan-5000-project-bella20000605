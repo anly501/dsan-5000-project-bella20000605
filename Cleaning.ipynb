{
  "cells": [
    {
      "cell_type": "raw",
      "id": "18393f63",
      "metadata": {},
      "source": [
        "---\n",
        "title: \"Data Cleaning\"\n",
        "---"
      ]
    },
    {
      "cell_type": "markdown",
      "id": "7da36664",
      "metadata": {},
      "source": [
        "## Code\n",
        "\n",
        "Code for cleaning the data set<br>\n",
        "[download link](https://github.com/bella20000605/Depression_Project/tree/main/Part2/Code)\n",
        "\n",
        "Raw Data Set<br>\n",
        "[download link](https://github.com/bella20000605/Depression_Project/tree/main/Part2/Code)\n",
        "\n",
        "Cleaned Data Set<br>\n",
        "[download link](https://github.com/bella20000605/Depression_Project/tree/main/Part2/Code)\n",
        "\n",
        "\n",
        "## Python Cleaning Process \n"
      ]
    },
    {
      "cell_type": "markdown",
      "id": "d41b400f",
      "metadata": {},
      "source": [
        "\n",
        "### Load Data Set"
      ]
    },
    {
      "cell_type": "code",
      "execution_count": null,
      "id": "2c43fd70",
      "metadata": {
        "vscode": {
          "languageId": "python"
        }
      },
      "outputs": [],
      "source": [
        "import pandas as pd\n",
        "import numpy as np\n",
        "import matplotlib.pyplot as plt\n",
        "import seaborn as sns\n",
        "import glob\n",
        "from sklearn.feature_extraction.text import CountVectorizer\n",
        "\n",
        "\n",
        "#load data from csv file\n",
        "all_data_frames=glob.glob(\"./Part2/Data/*.csv\")+glob.glob(\"./Part2/Data/*.xlsx\")\n",
        "for fname_index, fname in enumerate(all_data_frames):\n",
        "    print(fname_index, fname)\n"
      ]
    },
    {
      "cell_type": "markdown",
      "id": "ed7be2e8",
      "metadata": {},
      "source": [
        "\n",
        "### Mental Health Data "
      ]
    },
    {
      "cell_type": "code",
      "execution_count": null,
      "id": "520ea983",
      "metadata": {
        "vscode": {
          "languageId": "python"
        }
      },
      "outputs": [],
      "source": [
        "\n",
        "#A.clean the data named mental_health\n",
        "mental_health = all_data_frames[9]\n",
        "mental_health_df = pd.read_excel(mental_health)  # Use the 'mental_health' variable\n",
        "# show all the columns of the dataframe\n",
        "# mental_health_df.columns\n",
        "print(mental_health_df.head())\n",
        "\n",
        "vectorizer = CountVectorizer()\n",
        "count=vectorizer.fit_transform(mental_health_df['Entity'].values.astype('U'))\n",
        "print(count)\n",
        "print('vocabulary list:',vectorizer.vocabulary_)\n",
        "print('vocabulary size:',len(vectorizer.vocabulary_))\n",
        "\n",
        "# # drop the columns of the dataframes that do not belong to mental health data\n",
        "mental_health_df = mental_health_df.drop(columns=['Drug use disorders (%)', 'Alcohol use disorders (%)'])\n",
        "print(mental_health_df.head())\n",
        "#save the dataframe to csv file\n",
        "mental_health_df.to_csv(\"./Part2/Code/mental_health_CV.csv\", index=False)"
      ]
    },
    {
      "cell_type": "markdown",
      "id": "de0fe3e3",
      "metadata": {},
      "source": [
        "### Eating Disorders Data"
      ]
    },
    {
      "cell_type": "code",
      "execution_count": null,
      "id": "19f9df6d",
      "metadata": {
        "vscode": {
          "languageId": "python"
        }
      },
      "outputs": [],
      "source": [
        "eating_disorder = all_data_frames[3]\n",
        "print(eating_disorder)\n",
        "eating_disorder_df = pd.read_csv(eating_disorder) # Use the 'eating_disorder' variablev\n",
        "# show all the columns of the dataframe\n",
        "print(eating_disorder_df.columns)\n",
        "print(eating_disorder_df.head())\n",
        "# drop the columns Continent\n",
        "eating_disorder_df = eating_disorder_df.drop(columns=['Continent','Population (historical estimates)'])\n",
        "print(eating_disorder_df.shape)\n",
        "# only keep the rows of the dataframe when the column 'Year' is between 1990-2021\n",
        "# eating_disorder_df = eating_disorder_df.loc[eating_disorder_df['Year'] == range(1990,2022)]\n",
        "eating_disorder_df = eating_disorder_df[eating_disorder_df['Year'].isin(range(1990,2022))]\n",
        "print(eating_disorder_df.shape)\n",
        "rename_map={\n",
        "    'Entity':'Country',\n",
        "    'Code':'Country Code',\n",
        "    'Year':'Year',\n",
        "    'Eating disorders (share of population) - Sex: Male - Age: Age-standardized': 'Male',\n",
        "    'Eating disorders (share of population) - Sex: Female - Age: Age-standardized':'Female',\n",
        "}\n",
        "eating_disorder_df.rename(columns=rename_map, inplace=True)\n",
        "print(eating_disorder_df.head())\n",
        "#caculate the mean of the column Male and Female of the dataframe and save it to a new column named All_gender\n",
        "eating_disorder_df['All_gender'] = eating_disorder_df[['Male', 'Female']].mean(axis=1)\n",
        "print(eating_disorder_df.head())\n",
        "#save the dataframe to csv file\n",
        "eating_disorder_df.to_csv(\"./Part2/Code/eating_disorder.csv\", index=False)"
      ]
    },
    {
      "cell_type": "markdown",
      "id": "c879cfa8",
      "metadata": {},
      "source": [
        "### Discomfort Seaking Anxiety depression_2020 & Contries Continents\n"
      ]
    },
    {
      "cell_type": "code",
      "execution_count": null,
      "id": "6ce366e7",
      "metadata": {
        "vscode": {
          "languageId": "python"
        }
      },
      "outputs": [],
      "source": [
        "#C.clean the data named discomfort_speaking_anxiety_depression_2020 and Contries_Continents\n",
        "Contries_Continents=all_data_frames[0]\n",
        "Contries_Continents_df = pd.read_csv(Contries_Continents) \n",
        "print(Contries_Continents_df.head())\n",
        "print(Contries_Continents_df.shape)\n",
        "discomfort_speaking_anxiety_depression_2020=all_data_frames[1]\n",
        "discomfort_speaking_anxiety_depression_2020_df = pd.read_csv(discomfort_speaking_anxiety_depression_2020)\n",
        "print(discomfort_speaking_anxiety_depression_2020_df.head())\n",
        "print(discomfort_speaking_anxiety_depression_2020_df.columns)\n",
        "print(discomfort_speaking_anxiety_depression_2020_df.shape)\n",
        "#rename the column 'Entity' to 'Country' and 'Share - Question: mh5 - Someone local comfortable speaking about anxiety/depression with someone they know - Answer: Not at all comfortable - Gender: all - Age_group: all' to 'Not_Comfortable'\n",
        "discomfort_speaking_anxiety_depression_2020_df.rename(columns={'Entity':'Country','Share - Question: mh5 - Someone local comfortable speaking about anxiety/depression with someone they know - Answer: Not at all comfortable - Gender: all - Age_group: all':'Not_Comfortable'}, inplace=True)\n",
        "# merge the two dataframes\n",
        "discomfort_in_continent= discomfort_speaking_anxiety_depression_2020_df.merge(Contries_Continents_df, how='left', left_on='Country', right_on='Country')\n",
        "print(discomfort_in_continent.head())\n",
        "##save the dataframe to csv file\n",
        "discomfort_in_continent.to_csv(\"./Part2/Code/discomfort_in_continent.csv\", index=False)"
      ]
    },
    {
      "cell_type": "markdown",
      "id": "1a41709a",
      "metadata": {},
      "source": [
        "## R Cleaning Process\n",
        "### Load Data Set\n",
        "\n",
        "\n"
      ]
    },
    {
      "cell_type": "code",
      "execution_count": null,
      "id": "ec2bcc8d",
      "metadata": {
        "vscode": {
          "languageId": "r"
        }
      },
      "outputs": [],
      "source": [
        "# Load the required libraries\n",
        "library(readxl)\n",
        "library(dplyr)\n",
        "\n",
        "# List all data files\n",
        "data_files <- list.files(path = \"./Part2/Data\", full.names = TRUE)\n"
      ]
    },
    {
      "cell_type": "markdown",
      "id": "9db0b29b",
      "metadata": {},
      "source": [
        "### Mental Health Data "
      ]
    },
    {
      "cell_type": "code",
      "execution_count": null,
      "id": "cdb2cfd9",
      "metadata": {
        "vscode": {
          "languageId": "r"
        }
      },
      "outputs": [],
      "source": [
        "\n",
        "# Load mental_health data\n",
        "mental_health_file <- data_files[10] # Assuming mental health data is at index 10\n",
        "mental_health_df <- read_excel(mental_health_file)\n",
        "head(mental_health_df)\n",
        "\n",
        "# Drop columns not related to mental health\n",
        "mental_health_df <- mental_health_df %>%\n",
        "  select(-c(`Drug use disorders (%)`, `Alcohol use disorders (%)`))\n",
        "head(mental_health_df)\n",
        "\n",
        "# Save the cleaned data to CSV\n",
        "write.csv(mental_health_df, file = \"./Part2/Code/mental_health_r.csv\", row.names = FALSE)\n"
      ]
    },
    {
      "cell_type": "markdown",
      "id": "465020b6",
      "metadata": {},
      "source": [
        "## Visualization\n",
        "Before\n",
        "![Alt Text](images/mental-after.png)<br>\n",
        "\n",
        "After\n",
        "![Alt Text](./images/mental.png)"
      ]
    }
  ],
  "metadata": {
    "kernelspec": {
      "display_name": "Python 3 (ipykernel)",
      "language": "python",
      "name": "python3"
    }
  },
  "nbformat": 4,
  "nbformat_minor": 5
}
