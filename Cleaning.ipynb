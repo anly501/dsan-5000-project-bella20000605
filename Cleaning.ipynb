{
  "cells": [
    {
      "cell_type": "raw",
      "id": "18393f63",
      "metadata": {},
      "source": [
        "---\n",
        "title: \"Data Cleaning\"\n",
        "---"
      ]
    },
    {
      "cell_type": "markdown",
      "id": "7da36664",
      "metadata": {},
      "source": [
        "## Code\n",
        "\n",
        "Code for cleaning the data set<br>\n",
        "[download link](https://github.com/bella20000605/Depression_Project/tree/main/Part2/Code)\n",
        "\n",
        "Raw Data Set<br>\n",
        "[download link](https://github.com/bella20000605/Depression_Project/tree/main/Part2/Code)\n",
        "\n",
        "Cleaned Data Set<br>\n",
        "[download link](https://github.com/bella20000605/Depression_Project/tree/main/Part2/Code)\n",
        "\n",
        "\n",
        "## Python Cleaning Process \n"
      ]
    },
    {
      "cell_type": "markdown",
      "id": "d41b400f",
      "metadata": {},
      "source": [
        "\n",
        "### Load Data Set"
      ]
    },
    {
      "cell_type": "code",
      "execution_count": 9,
      "id": "2c43fd70",
      "metadata": {},
      "outputs": [
        {
          "name": "stdout",
          "output_type": "stream",
          "text": [
            "0 ./HW-02/Data/education.csv\n",
            "1 ./HW-02/Data/Countries_Continents.csv\n",
            "2 ./HW-02/Data/mental_sports_nb.csv\n",
            "3 ./HW-02/Data/age_when_first_had_anxiety_depression.csv\n",
            "4 ./HW-02/Data/all_mental_health_symptoms.csv\n",
            "5 ./HW-02/Data/GDP_per_captita.csv\n",
            "6 ./HW-02/Data/discomfort_speaking_anxiety_depression_2020.csv\n",
            "7 ./HW-02/Data/eating_disorders_prevalence_males_vs_females.csv\n",
            "8 ./HW-02/Data/most_educated_countries_2023.csv\n",
            "9 ./HW-02/Data/GDP.csv\n",
            "10 ./HW-02/Data/Income_group.xlsx\n",
            "11 ./HW-02/Data/mental_health.xlsx\n"
          ]
        }
      ],
      "source": [
        "import pandas as pd\n",
        "import numpy as np\n",
        "import matplotlib.pyplot as plt\n",
        "import seaborn as sns\n",
        "import glob\n",
        "from sklearn.feature_extraction.text import CountVectorizer\n",
        "\n",
        "\n",
        "#load data from csv file\n",
        "all_data_frames=glob.glob(\"./HW-02/Data/*.csv\")+glob.glob(\"./HW-02/Data/*.xlsx\")\n",
        "for fname_index, fname in enumerate(all_data_frames):\n",
        "    print(fname_index, fname)\n"
      ]
    },
    {
      "cell_type": "markdown",
      "id": "ed7be2e8",
      "metadata": {},
      "source": [
        "\n",
        "### Mental Health Data "
      ]
    },
    {
      "cell_type": "code",
      "execution_count": 10,
      "id": "520ea983",
      "metadata": {},
      "outputs": [
        {
          "name": "stdout",
          "output_type": "stream",
          "text": [
            "        Entity Code  Year  Schizophrenia (%)  Bipolar disorder (%)  \\\n",
            "0  Afghanistan  AFG  1990           0.160560              0.697779   \n",
            "1  Afghanistan  AFG  1991           0.160312              0.697961   \n",
            "2  Afghanistan  AFG  1992           0.160135              0.698107   \n",
            "3  Afghanistan  AFG  1993           0.160037              0.698257   \n",
            "4  Afghanistan  AFG  1994           0.160022              0.698469   \n",
            "\n",
            "   Eating disorders (%)  Anxiety disorders (%)  Drug use disorders (%)  \\\n",
            "0              0.101855               4.828830                1.677082   \n",
            "1              0.099313               4.829740                1.684746   \n",
            "2              0.096692               4.831108                1.694334   \n",
            "3              0.094336               4.830864                1.705320   \n",
            "4              0.092439               4.829423                1.716069   \n",
            "\n",
            "   Depression (%)  Alcohol use disorders (%)  \n",
            "0        4.071831                   0.672404  \n",
            "1        4.079531                   0.671768  \n",
            "2        4.088358                   0.670644  \n",
            "3        4.096190                   0.669738  \n",
            "4        4.099582                   0.669260  \n",
            "  (0, 0)\t1\n",
            "  (1, 0)\t1\n",
            "  (2, 0)\t1\n",
            "  (3, 0)\t1\n",
            "  (4, 0)\t1\n",
            "  (5, 0)\t1\n",
            "  (6, 0)\t1\n",
            "  (7, 0)\t1\n",
            "  (8, 0)\t1\n",
            "  (9, 0)\t1\n",
            "  (10, 0)\t1\n",
            "  (11, 0)\t1\n",
            "  (12, 0)\t1\n",
            "  (13, 0)\t1\n",
            "  (14, 0)\t1\n",
            "  (15, 0)\t1\n",
            "  (16, 0)\t1\n",
            "  (17, 0)\t1\n",
            "  (18, 0)\t1\n",
            "  (19, 0)\t1\n",
            "  (20, 0)\t1\n",
            "  (21, 0)\t1\n",
            "  (22, 0)\t1\n",
            "  (23, 0)\t1\n",
            "  (24, 0)\t1\n",
            "  :\t:\n",
            "  (6443, 247)\t1\n",
            "  (6444, 247)\t1\n",
            "  (6445, 247)\t1\n",
            "  (6446, 247)\t1\n",
            "  (6447, 247)\t1\n",
            "  (6448, 247)\t1\n",
            "  (6449, 247)\t1\n",
            "  (6450, 247)\t1\n",
            "  (6451, 247)\t1\n",
            "  (6452, 247)\t1\n",
            "  (6453, 247)\t1\n",
            "  (6454, 247)\t1\n",
            "  (6455, 247)\t1\n",
            "  (6456, 247)\t1\n",
            "  (6457, 247)\t1\n",
            "  (6458, 247)\t1\n",
            "  (6459, 247)\t1\n",
            "  (6460, 247)\t1\n",
            "  (6461, 247)\t1\n",
            "  (6462, 247)\t1\n",
            "  (6463, 247)\t1\n",
            "  (6464, 247)\t1\n",
            "  (6465, 247)\t1\n",
            "  (6466, 247)\t1\n",
            "  (6467, 247)\t1\n",
            "vocabulary list: {'afghanistan': 0, 'albania': 3, 'algeria': 4, 'american': 6, 'samoa': 188, 'andean': 8, 'latin': 122, 'america': 5, 'andorra': 9, 'angola': 10, 'antigua': 11, 'and': 7, 'barbuda': 25, 'argentina': 14, 'armenia': 15, 'australasia': 17, 'australia': 18, 'austria': 19, 'azerbaijan': 20, 'bahamas': 21, 'bahrain': 22, 'bangladesh': 23, 'barbados': 24, 'belarus': 26, 'belgium': 27, 'belize': 28, 'benin': 29, 'bermuda': 30, 'bhutan': 31, 'bolivia': 33, 'bosnia': 34, 'herzegovina': 95, 'botswana': 35, 'brazil': 36, 'brunei': 37, 'bulgaria': 38, 'burkina': 39, 'faso': 77, 'burundi': 40, 'cambodia': 41, 'cameroon': 42, 'canada': 43, 'cape': 44, 'verde': 237, 'caribbean': 45, 'central': 46, 'african': 2, 'republic': 179, 'asia': 16, 'europe': 76, 'eastern': 66, 'sub': 208, 'saharan': 185, 'africa': 1, 'chad': 47, 'chile': 48, 'china': 49, 'colombia': 50, 'comoros': 51, 'congo': 52, 'costa': 53, 'rica': 180, 'cote': 54, 'ivoire': 109, 'croatia': 56, 'cuba': 57, 'cyprus': 58, 'czech': 59, 'democratic': 60, 'of': 164, 'denmark': 61, 'djibouti': 62, 'dominica': 63, 'dominican': 64, 'east': 65, 'ecuador': 67, 'egypt': 68, 'el': 69, 'salvador': 187, 'england': 71, 'equatorial': 72, 'guinea': 92, 'eritrea': 73, 'estonia': 74, 'ethiopia': 75, 'fiji': 78, 'finland': 79, 'france': 80, 'gabon': 81, 'gambia': 82, 'georgia': 83, 'germany': 84, 'ghana': 85, 'greece': 86, 'greenland': 87, 'grenada': 88, 'guam': 90, 'guatemala': 91, 'bissau': 32, 'guyana': 93, 'haiti': 94, 'high': 96, 'sdi': 192, 'income': 100, 'pacific': 166, 'middle': 146, 'honduras': 97, 'hungary': 98, 'iceland': 99, 'india': 101, 'indonesia': 102, 'iran': 103, 'iraq': 104, 'ireland': 105, 'israel': 107, 'italy': 108, 'jamaica': 110, 'japan': 111, 'jordan': 112, 'kazakhstan': 113, 'kenya': 114, 'kiribati': 116, 'kuwait': 118, 'kyrgyzstan': 119, 'laos': 121, 'latvia': 123, 'lebanon': 124, 'lesotho': 126, 'liberia': 127, 'libya': 128, 'lithuania': 129, 'low': 130, 'luxembourg': 132, 'macedonia': 133, 'madagascar': 134, 'malawi': 135, 'malaysia': 136, 'maldives': 137, 'mali': 138, 'malta': 139, 'marshall': 141, 'islands': 106, 'mauritania': 142, 'mauritius': 143, 'mexico': 144, 'micronesia': 145, 'country': 55, 'moldova': 147, 'mongolia': 148, 'montenegro': 149, 'morocco': 150, 'mozambique': 151, 'myanmar': 152, 'namibia': 153, 'nepal': 154, 'netherlands': 155, 'new': 156, 'zealand': 246, 'nicaragua': 157, 'niger': 158, 'nigeria': 159, 'north': 160, 'korea': 117, 'northern': 161, 'mariana': 140, 'norway': 162, 'oceania': 163, 'oman': 165, 'pakistan': 167, 'palestine': 168, 'panama': 169, 'papua': 170, 'paraguay': 171, 'peru': 172, 'philippines': 173, 'poland': 174, 'portugal': 175, 'puerto': 177, 'rico': 181, 'qatar': 178, 'romania': 182, 'russia': 183, 'rwanda': 184, 'saint': 186, 'lucia': 131, 'vincent': 239, 'the': 219, 'grenadines': 89, 'sao': 189, 'tome': 223, 'principe': 176, 'saudi': 190, 'arabia': 13, 'scotland': 191, 'senegal': 193, 'serbia': 194, 'seychelles': 195, 'sierra': 196, 'leone': 125, 'singapore': 197, 'slovakia': 198, 'slovenia': 199, 'solomon': 200, 'somalia': 201, 'south': 202, 'sudan': 209, 'southeast': 203, 'southern': 204, 'spain': 205, 'sri': 206, 'lanka': 120, 'suriname': 210, 'swaziland': 211, 'sweden': 212, 'switzerland': 213, 'syria': 214, 'taiwan': 215, 'tajikistan': 216, 'tanzania': 217, 'thailand': 218, 'timor': 220, 'togo': 222, 'tonga': 224, 'trinidad': 225, 'tobago': 221, 'tropical': 226, 'tunisia': 227, 'turkey': 228, 'turkmenistan': 229, 'uganda': 230, 'ukraine': 231, 'united': 232, 'arab': 12, 'emirates': 70, 'kingdom': 115, 'states': 207, 'virgin': 240, 'uruguay': 233, 'uzbekistan': 234, 'vanuatu': 235, 'venezuela': 236, 'vietnam': 238, 'wales': 241, 'western': 242, 'world': 243, 'yemen': 244, 'zambia': 245, 'zimbabwe': 247}\n",
            "vocabulary size: 248\n",
            "        Entity Code  Year  Schizophrenia (%)  Bipolar disorder (%)  \\\n",
            "0  Afghanistan  AFG  1990           0.160560              0.697779   \n",
            "1  Afghanistan  AFG  1991           0.160312              0.697961   \n",
            "2  Afghanistan  AFG  1992           0.160135              0.698107   \n",
            "3  Afghanistan  AFG  1993           0.160037              0.698257   \n",
            "4  Afghanistan  AFG  1994           0.160022              0.698469   \n",
            "\n",
            "   Eating disorders (%)  Anxiety disorders (%)  Depression (%)  \n",
            "0              0.101855               4.828830        4.071831  \n",
            "1              0.099313               4.829740        4.079531  \n",
            "2              0.096692               4.831108        4.088358  \n",
            "3              0.094336               4.830864        4.096190  \n",
            "4              0.092439               4.829423        4.099582  \n"
          ]
        }
      ],
      "source": [
        "\n",
        "#A.clean the data named mental_health\n",
        "mental_health = all_data_frames[11]\n",
        "mental_health_df = pd.read_excel(mental_health)  # Use the 'mental_health' variable\n",
        "# show all the columns of the dataframe\n",
        "# mental_health_df.columns\n",
        "print(mental_health_df.head())\n",
        "\n",
        "vectorizer = CountVectorizer()\n",
        "count=vectorizer.fit_transform(mental_health_df['Entity'].values.astype('U'))\n",
        "print(count)\n",
        "print('vocabulary list:',vectorizer.vocabulary_)\n",
        "print('vocabulary size:',len(vectorizer.vocabulary_))\n",
        "\n",
        "# # drop the columns of the dataframes that do not belong to mental health data\n",
        "mental_health_df = mental_health_df.drop(columns=['Drug use disorders (%)', 'Alcohol use disorders (%)'])\n",
        "print(mental_health_df.head())\n",
        "#save the dataframe to csv file\n",
        "# mental_health_df.to_csv(\"./Part2/Code/mental_health_CV.csv\", index=False)"
      ]
    },
    {
      "cell_type": "markdown",
      "id": "de0fe3e3",
      "metadata": {},
      "source": [
        "### Eating Disorders Data"
      ]
    },
    {
      "cell_type": "code",
      "execution_count": 11,
      "id": "19f9df6d",
      "metadata": {},
      "outputs": [
        {
          "name": "stdout",
          "output_type": "stream",
          "text": [
            "./HW-02/Data/eating_disorders_prevalence_males_vs_females.csv\n",
            "Index(['Entity', 'Code', 'Year', 'Eating_disorders_Male',\n",
            "       'Eating_disorders_Female', 'Population', 'Continent'],\n",
            "      dtype='object')\n",
            "        Entity      Code  Year  Eating_disorders_Male  \\\n",
            "0     Abkhazia  OWID_ABK  2015                    NaN   \n",
            "1  Afghanistan       AFG  1990               0.088487   \n",
            "2  Afghanistan       AFG  1991               0.086048   \n",
            "3  Afghanistan       AFG  1992               0.083625   \n",
            "4  Afghanistan       AFG  1993               0.081628   \n",
            "\n",
            "   Eating_disorders_Female  Population Continent  \n",
            "0                      NaN         NaN      Asia  \n",
            "1                 0.161867  10694804.0       NaN  \n",
            "2                 0.156910  10745168.0       NaN  \n",
            "3                 0.152412  12057436.0       NaN  \n",
            "4                 0.147938  14003764.0       NaN  \n"
          ]
        },
        {
          "ename": "KeyError",
          "evalue": "\"['Population (historical estimates)'] not found in axis\"",
          "output_type": "error",
          "traceback": [
            "\u001b[0;31m---------------------------------------------------------------------------\u001b[0m",
            "\u001b[0;31mKeyError\u001b[0m                                  Traceback (most recent call last)",
            "\u001b[1;32m/Users/bella/Documents/5000/HW/homework1/Cleaning.ipynb Cell 8\u001b[0m line \u001b[0;36m8\n\u001b[1;32m      <a href='vscode-notebook-cell:/Users/bella/Documents/5000/HW/homework1/Cleaning.ipynb#X10sZmlsZQ%3D%3D?line=5'>6</a>\u001b[0m \u001b[39mprint\u001b[39m(eating_disorder_df\u001b[39m.\u001b[39mhead())\n\u001b[1;32m      <a href='vscode-notebook-cell:/Users/bella/Documents/5000/HW/homework1/Cleaning.ipynb#X10sZmlsZQ%3D%3D?line=6'>7</a>\u001b[0m \u001b[39m# drop the columns Continent\u001b[39;00m\n\u001b[0;32m----> <a href='vscode-notebook-cell:/Users/bella/Documents/5000/HW/homework1/Cleaning.ipynb#X10sZmlsZQ%3D%3D?line=7'>8</a>\u001b[0m eating_disorder_df \u001b[39m=\u001b[39m eating_disorder_df\u001b[39m.\u001b[39mdrop(columns\u001b[39m=\u001b[39m[\u001b[39m'\u001b[39m\u001b[39mContinent\u001b[39m\u001b[39m'\u001b[39m,\u001b[39m'\u001b[39m\u001b[39mPopulation (historical estimates)\u001b[39m\u001b[39m'\u001b[39m])\n\u001b[1;32m      <a href='vscode-notebook-cell:/Users/bella/Documents/5000/HW/homework1/Cleaning.ipynb#X10sZmlsZQ%3D%3D?line=8'>9</a>\u001b[0m \u001b[39mprint\u001b[39m(eating_disorder_df\u001b[39m.\u001b[39mshape)\n\u001b[1;32m     <a href='vscode-notebook-cell:/Users/bella/Documents/5000/HW/homework1/Cleaning.ipynb#X10sZmlsZQ%3D%3D?line=9'>10</a>\u001b[0m \u001b[39m# only keep the rows of the dataframe when the column 'Year' is between 1990-2021\u001b[39;00m\n\u001b[1;32m     <a href='vscode-notebook-cell:/Users/bella/Documents/5000/HW/homework1/Cleaning.ipynb#X10sZmlsZQ%3D%3D?line=10'>11</a>\u001b[0m \u001b[39m# eating_disorder_df = eating_disorder_df.loc[eating_disorder_df['Year'] == range(1990,2022)]\u001b[39;00m\n",
            "File \u001b[0;32m~/anaconda3/lib/python3.11/site-packages/pandas/util/_decorators.py:331\u001b[0m, in \u001b[0;36mdeprecate_nonkeyword_arguments.<locals>.decorate.<locals>.wrapper\u001b[0;34m(*args, **kwargs)\u001b[0m\n\u001b[1;32m    325\u001b[0m \u001b[39mif\u001b[39;00m \u001b[39mlen\u001b[39m(args) \u001b[39m>\u001b[39m num_allow_args:\n\u001b[1;32m    326\u001b[0m     warnings\u001b[39m.\u001b[39mwarn(\n\u001b[1;32m    327\u001b[0m         msg\u001b[39m.\u001b[39mformat(arguments\u001b[39m=\u001b[39m_format_argument_list(allow_args)),\n\u001b[1;32m    328\u001b[0m         \u001b[39mFutureWarning\u001b[39;00m,\n\u001b[1;32m    329\u001b[0m         stacklevel\u001b[39m=\u001b[39mfind_stack_level(),\n\u001b[1;32m    330\u001b[0m     )\n\u001b[0;32m--> 331\u001b[0m \u001b[39mreturn\u001b[39;00m func(\u001b[39m*\u001b[39margs, \u001b[39m*\u001b[39m\u001b[39m*\u001b[39mkwargs)\n",
            "File \u001b[0;32m~/anaconda3/lib/python3.11/site-packages/pandas/core/frame.py:5399\u001b[0m, in \u001b[0;36mDataFrame.drop\u001b[0;34m(self, labels, axis, index, columns, level, inplace, errors)\u001b[0m\n\u001b[1;32m   5251\u001b[0m \u001b[39m@deprecate_nonkeyword_arguments\u001b[39m(version\u001b[39m=\u001b[39m\u001b[39mNone\u001b[39;00m, allowed_args\u001b[39m=\u001b[39m[\u001b[39m\"\u001b[39m\u001b[39mself\u001b[39m\u001b[39m\"\u001b[39m, \u001b[39m\"\u001b[39m\u001b[39mlabels\u001b[39m\u001b[39m\"\u001b[39m])\n\u001b[1;32m   5252\u001b[0m \u001b[39mdef\u001b[39;00m \u001b[39mdrop\u001b[39m(  \u001b[39m# type: ignore[override]\u001b[39;00m\n\u001b[1;32m   5253\u001b[0m     \u001b[39mself\u001b[39m,\n\u001b[0;32m   (...)\u001b[0m\n\u001b[1;32m   5260\u001b[0m     errors: IgnoreRaise \u001b[39m=\u001b[39m \u001b[39m\"\u001b[39m\u001b[39mraise\u001b[39m\u001b[39m\"\u001b[39m,\n\u001b[1;32m   5261\u001b[0m ) \u001b[39m-\u001b[39m\u001b[39m>\u001b[39m DataFrame \u001b[39m|\u001b[39m \u001b[39mNone\u001b[39;00m:\n\u001b[1;32m   5262\u001b[0m \u001b[39m    \u001b[39m\u001b[39m\"\"\"\u001b[39;00m\n\u001b[1;32m   5263\u001b[0m \u001b[39m    Drop specified labels from rows or columns.\u001b[39;00m\n\u001b[1;32m   5264\u001b[0m \n\u001b[0;32m   (...)\u001b[0m\n\u001b[1;32m   5397\u001b[0m \u001b[39m            weight  1.0     0.8\u001b[39;00m\n\u001b[1;32m   5398\u001b[0m \u001b[39m    \"\"\"\u001b[39;00m\n\u001b[0;32m-> 5399\u001b[0m     \u001b[39mreturn\u001b[39;00m \u001b[39msuper\u001b[39m()\u001b[39m.\u001b[39mdrop(\n\u001b[1;32m   5400\u001b[0m         labels\u001b[39m=\u001b[39mlabels,\n\u001b[1;32m   5401\u001b[0m         axis\u001b[39m=\u001b[39maxis,\n\u001b[1;32m   5402\u001b[0m         index\u001b[39m=\u001b[39mindex,\n\u001b[1;32m   5403\u001b[0m         columns\u001b[39m=\u001b[39mcolumns,\n\u001b[1;32m   5404\u001b[0m         level\u001b[39m=\u001b[39mlevel,\n\u001b[1;32m   5405\u001b[0m         inplace\u001b[39m=\u001b[39minplace,\n\u001b[1;32m   5406\u001b[0m         errors\u001b[39m=\u001b[39merrors,\n\u001b[1;32m   5407\u001b[0m     )\n",
            "File \u001b[0;32m~/anaconda3/lib/python3.11/site-packages/pandas/util/_decorators.py:331\u001b[0m, in \u001b[0;36mdeprecate_nonkeyword_arguments.<locals>.decorate.<locals>.wrapper\u001b[0;34m(*args, **kwargs)\u001b[0m\n\u001b[1;32m    325\u001b[0m \u001b[39mif\u001b[39;00m \u001b[39mlen\u001b[39m(args) \u001b[39m>\u001b[39m num_allow_args:\n\u001b[1;32m    326\u001b[0m     warnings\u001b[39m.\u001b[39mwarn(\n\u001b[1;32m    327\u001b[0m         msg\u001b[39m.\u001b[39mformat(arguments\u001b[39m=\u001b[39m_format_argument_list(allow_args)),\n\u001b[1;32m    328\u001b[0m         \u001b[39mFutureWarning\u001b[39;00m,\n\u001b[1;32m    329\u001b[0m         stacklevel\u001b[39m=\u001b[39mfind_stack_level(),\n\u001b[1;32m    330\u001b[0m     )\n\u001b[0;32m--> 331\u001b[0m \u001b[39mreturn\u001b[39;00m func(\u001b[39m*\u001b[39margs, \u001b[39m*\u001b[39m\u001b[39m*\u001b[39mkwargs)\n",
            "File \u001b[0;32m~/anaconda3/lib/python3.11/site-packages/pandas/core/generic.py:4505\u001b[0m, in \u001b[0;36mNDFrame.drop\u001b[0;34m(self, labels, axis, index, columns, level, inplace, errors)\u001b[0m\n\u001b[1;32m   4503\u001b[0m \u001b[39mfor\u001b[39;00m axis, labels \u001b[39min\u001b[39;00m axes\u001b[39m.\u001b[39mitems():\n\u001b[1;32m   4504\u001b[0m     \u001b[39mif\u001b[39;00m labels \u001b[39mis\u001b[39;00m \u001b[39mnot\u001b[39;00m \u001b[39mNone\u001b[39;00m:\n\u001b[0;32m-> 4505\u001b[0m         obj \u001b[39m=\u001b[39m obj\u001b[39m.\u001b[39m_drop_axis(labels, axis, level\u001b[39m=\u001b[39mlevel, errors\u001b[39m=\u001b[39merrors)\n\u001b[1;32m   4507\u001b[0m \u001b[39mif\u001b[39;00m inplace:\n\u001b[1;32m   4508\u001b[0m     \u001b[39mself\u001b[39m\u001b[39m.\u001b[39m_update_inplace(obj)\n",
            "File \u001b[0;32m~/anaconda3/lib/python3.11/site-packages/pandas/core/generic.py:4546\u001b[0m, in \u001b[0;36mNDFrame._drop_axis\u001b[0;34m(self, labels, axis, level, errors, only_slice)\u001b[0m\n\u001b[1;32m   4544\u001b[0m         new_axis \u001b[39m=\u001b[39m axis\u001b[39m.\u001b[39mdrop(labels, level\u001b[39m=\u001b[39mlevel, errors\u001b[39m=\u001b[39merrors)\n\u001b[1;32m   4545\u001b[0m     \u001b[39melse\u001b[39;00m:\n\u001b[0;32m-> 4546\u001b[0m         new_axis \u001b[39m=\u001b[39m axis\u001b[39m.\u001b[39mdrop(labels, errors\u001b[39m=\u001b[39merrors)\n\u001b[1;32m   4547\u001b[0m     indexer \u001b[39m=\u001b[39m axis\u001b[39m.\u001b[39mget_indexer(new_axis)\n\u001b[1;32m   4549\u001b[0m \u001b[39m# Case for non-unique axis\u001b[39;00m\n\u001b[1;32m   4550\u001b[0m \u001b[39melse\u001b[39;00m:\n",
            "File \u001b[0;32m~/anaconda3/lib/python3.11/site-packages/pandas/core/indexes/base.py:6934\u001b[0m, in \u001b[0;36mIndex.drop\u001b[0;34m(self, labels, errors)\u001b[0m\n\u001b[1;32m   6932\u001b[0m \u001b[39mif\u001b[39;00m mask\u001b[39m.\u001b[39many():\n\u001b[1;32m   6933\u001b[0m     \u001b[39mif\u001b[39;00m errors \u001b[39m!=\u001b[39m \u001b[39m\"\u001b[39m\u001b[39mignore\u001b[39m\u001b[39m\"\u001b[39m:\n\u001b[0;32m-> 6934\u001b[0m         \u001b[39mraise\u001b[39;00m \u001b[39mKeyError\u001b[39;00m(\u001b[39mf\u001b[39m\u001b[39m\"\u001b[39m\u001b[39m{\u001b[39;00m\u001b[39mlist\u001b[39m(labels[mask])\u001b[39m}\u001b[39;00m\u001b[39m not found in axis\u001b[39m\u001b[39m\"\u001b[39m)\n\u001b[1;32m   6935\u001b[0m     indexer \u001b[39m=\u001b[39m indexer[\u001b[39m~\u001b[39mmask]\n\u001b[1;32m   6936\u001b[0m \u001b[39mreturn\u001b[39;00m \u001b[39mself\u001b[39m\u001b[39m.\u001b[39mdelete(indexer)\n",
            "\u001b[0;31mKeyError\u001b[0m: \"['Population (historical estimates)'] not found in axis\""
          ]
        }
      ],
      "source": [
        "eating_disorder = all_data_frames[7]\n",
        "print(eating_disorder)\n",
        "eating_disorder_df = pd.read_csv(eating_disorder) # Use the 'eating_disorder' variablev\n",
        "# show all the columns of the dataframe\n",
        "print(eating_disorder_df.columns)\n",
        "print(eating_disorder_df.head())\n",
        "# drop the columns Continent\n",
        "eating_disorder_df = eating_disorder_df.drop(columns=['Continent','Population (historical estimates)'])\n",
        "print(eating_disorder_df.shape)\n",
        "# only keep the rows of the dataframe when the column 'Year' is between 1990-2021\n",
        "# eating_disorder_df = eating_disorder_df.loc[eating_disorder_df['Year'] == range(1990,2022)]\n",
        "eating_disorder_df = eating_disorder_df[eating_disorder_df['Year'].isin(range(1990,2022))]\n",
        "print(eating_disorder_df.shape)\n",
        "rename_map={\n",
        "    'Entity':'Country',\n",
        "    'Code':'Country Code',\n",
        "    'Year':'Year',\n",
        "    'Eating disorders (share of population) - Sex: Male - Age: Age-standardized': 'Male',\n",
        "    'Eating disorders (share of population) - Sex: Female - Age: Age-standardized':'Female',\n",
        "}\n",
        "eating_disorder_df.rename(columns=rename_map, inplace=True)\n",
        "print(eating_disorder_df.head())\n",
        "#caculate the mean of the column Male and Female of the dataframe and save it to a new column named All_gender\n",
        "eating_disorder_df['All_gender'] = eating_disorder_df[['Male', 'Female']].mean(axis=1)\n",
        "print(eating_disorder_df.head())\n",
        "#save the dataframe to csv file\n",
        "# eating_disorder_df.to_csv(\"./Part2/Code/eating_disorder.csv\", index=False)"
      ]
    },
    {
      "cell_type": "markdown",
      "id": "c879cfa8",
      "metadata": {},
      "source": [
        "### Discomfort Seaking Anxiety depression_2020 & Contries Continents\n"
      ]
    },
    {
      "cell_type": "code",
      "execution_count": null,
      "id": "6ce366e7",
      "metadata": {},
      "outputs": [
        {
          "name": "stdout",
          "output_type": "stream",
          "text": [
            "  Continent   Country\n",
            "0    Africa   Algeria\n",
            "1    Africa    Angola\n",
            "2    Africa     Benin\n",
            "3    Africa  Botswana\n",
            "4    Africa   Burkina\n",
            "(194, 2)\n",
            "      Entity Code  Year  \\\n",
            "0    Albania  ALB  2020   \n",
            "1    Algeria  DZA  2020   \n",
            "2  Argentina  ARG  2020   \n",
            "3       Asia  NaN  2020   \n",
            "4  Australia  AUS  2020   \n",
            "\n",
            "   not_at_all_comfortable_speaking_anxiety_or_depression_percent  \n",
            "0                                          27.573915              \n",
            "1                                          11.403895              \n",
            "2                                          26.333920              \n",
            "3                                          26.522500              \n",
            "4                                          30.768505              \n",
            "Index(['Entity', 'Code', 'Year',\n",
            "       'not_at_all_comfortable_speaking_anxiety_or_depression_percent'],\n",
            "      dtype='object')\n",
            "(122, 4)\n",
            "     Country Code  Year  \\\n",
            "0    Albania  ALB  2020   \n",
            "1    Algeria  DZA  2020   \n",
            "2  Argentina  ARG  2020   \n",
            "3       Asia  NaN  2020   \n",
            "4  Australia  AUS  2020   \n",
            "\n",
            "   not_at_all_comfortable_speaking_anxiety_or_depression_percent  \\\n",
            "0                                          27.573915               \n",
            "1                                          11.403895               \n",
            "2                                          26.333920               \n",
            "3                                          26.522500               \n",
            "4                                          30.768505               \n",
            "\n",
            "       Continent  \n",
            "0         Europe  \n",
            "1         Africa  \n",
            "2  South America  \n",
            "3            NaN  \n",
            "4        Oceania  \n"
          ]
        }
      ],
      "source": [
        "#C.clean the data named discomfort_speaking_anxiety_depression_2020 and Contries_Continents\n",
        "Contries_Continents=all_data_frames[1]\n",
        "Contries_Continents_df = pd.read_csv(Contries_Continents) \n",
        "print(Contries_Continents_df.head())\n",
        "print(Contries_Continents_df.shape)\n",
        "discomfort_speaking_anxiety_depression_2020=all_data_frames[6]\n",
        "discomfort_speaking_anxiety_depression_2020_df = pd.read_csv(discomfort_speaking_anxiety_depression_2020)\n",
        "print(discomfort_speaking_anxiety_depression_2020_df.head())\n",
        "print(discomfort_speaking_anxiety_depression_2020_df.columns)\n",
        "print(discomfort_speaking_anxiety_depression_2020_df.shape)\n",
        "#rename the column 'Entity' to 'Country' and 'Share - Question: mh5 - Someone local comfortable speaking about anxiety/depression with someone they know - Answer: Not at all comfortable - Gender: all - Age_group: all' to 'Not_Comfortable'\n",
        "discomfort_speaking_anxiety_depression_2020_df.rename(columns={'Entity':'Country','Share - Question: mh5 - Someone local comfortable speaking about anxiety/depression with someone they know - Answer: Not at all comfortable - Gender: all - Age_group: all':'Not_Comfortable'}, inplace=True)\n",
        "# merge the two dataframes\n",
        "discomfort_in_continent= discomfort_speaking_anxiety_depression_2020_df.merge(Contries_Continents_df, how='left', left_on='Country', right_on='Country')\n",
        "print(discomfort_in_continent.head())\n",
        "##save the dataframe to csv file\n",
        "# discomfort_in_continent.to_csv(\"./Part2/Code/discomfort_in_continent.csv\", index=False)"
      ]
    },
    {
      "cell_type": "markdown",
      "id": "1a41709a",
      "metadata": {},
      "source": [
        "## R Cleaning Process\n",
        "### Load Data Set\n",
        "\n",
        "\n"
      ]
    },
    {
      "cell_type": "code",
      "execution_count": null,
      "id": "ec2bcc8d",
      "metadata": {},
      "outputs": [],
      "source": [
        "# Load the required libraries\n",
        "library(readxl)\n",
        "library(dplyr)\n",
        "\n",
        "# List all data files\n",
        "data_files <- list.files(path = \"./Part2/Data\", full.names = TRUE)\n"
      ]
    },
    {
      "cell_type": "markdown",
      "id": "9db0b29b",
      "metadata": {},
      "source": [
        "### Mental Health Data "
      ]
    },
    {
      "cell_type": "code",
      "execution_count": null,
      "id": "cdb2cfd9",
      "metadata": {},
      "outputs": [],
      "source": [
        "\n",
        "# Load mental_health data\n",
        "mental_health_file <- data_files[11] # Assuming mental health data is at index 10\n",
        "mental_health_df <- read_excel(mental_health_file)\n",
        "head(mental_health_df)\n",
        "\n",
        "# Drop columns not related to mental health\n",
        "mental_health_df <- mental_health_df %>%\n",
        "  select(-c(`Drug use disorders (%)`, `Alcohol use disorders (%)`))\n",
        "head(mental_health_df)\n",
        "\n",
        "# Save the cleaned data to CSV\n",
        "# write.csv(mental_health_df, file = \"./Part2/Code/mental_health_r.csv\", row.names = FALSE)\n"
      ]
    },
    {
      "cell_type": "markdown",
      "id": "465020b6",
      "metadata": {},
      "source": [
        "## Visualization\n",
        "Before\n",
        "![Alt Text](images/mental-after.png)<br>\n",
        "\n",
        "After\n",
        "![Alt Text](./images/mental.png)"
      ]
    }
  ],
  "metadata": {
    "kernelspec": {
      "display_name": "Python 3 (ipykernel)",
      "language": "python",
      "name": "python3"
    },
    "language_info": {
      "codemirror_mode": {
        "name": "ipython",
        "version": 3
      },
      "file_extension": ".py",
      "mimetype": "text/x-python",
      "name": "python",
      "nbconvert_exporter": "python",
      "pygments_lexer": "ipython3",
      "version": "3.11.4"
    }
  },
  "nbformat": 4,
  "nbformat_minor": 5
}
