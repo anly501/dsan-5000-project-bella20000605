{
  "cells": [
    {
      "cell_type": "raw",
      "metadata": {},
      "source": [
        "---\n",
        "title: Clustering\n",
        "format:\n",
        "  html:\n",
        "    code-fold: true\n",
        "---"
      ]
    },
    {
      "cell_type": "markdown",
      "metadata": {},
      "source": [
        "Introduction\n",
        "Dimentional reduction happens before clusering My feature data includes 2017(which is the gdp-per-capita in the year of 2017 of all economies),Schizophrenia (%), Bipolar disorder (%),Eating disorders (%),Anxiety disorders (%),Depression (%), average_learning_Adjusted_of_school,and the goal of the project is to cluster the economies into different groups(like Income group) based on the feature data.\n",
        "\n",
        "Theory\n",
        "KMEANS\n",
        "\n",
        "It is a popular unsupervised machine learning algorithm, which is used to divide a given unlabeled dataset into a certain number of clusters, denoted as k.\n",
        "One example of this is imagine you are at a farmer's market and you have a variety of fruits and you want to organize these fruits. And k-means clustering is you sorting these fruits into different bags according to their charactersitics, like color, size, shape, etc. So the first step is you need to determine the number of bags you want to sort these fruits(the number means K in K-means,which stands for the number of clusters). Then you randomly place these bags among the fruits and you put every friut to its cloest bag. After all the fruits are put into bags, you find the average characteristics of each bag and move the bag to the average position of the fruits in the bag. Then you repeat the process until the bags stop moving(The fruits no longer switch bags) And the result is you have a certain number of bags and each bag contains a certain number of fruits with similar characteristics. The goal is to have bags(clusters) where the fruits inside are more like each other than they are like fruits in other bags. And we use Elbow method, Silhouette method, Gap statistic to determine the number of bags we want to sort the fruits into.\n",
        "\n",
        "Elbow method\n",
        "we increase the number of bags and get relavent scores of how close fruits are within bags, and in the plot we will look for the point where adding another bags doesn't significantly improve the closeness - this point is the 'elbow'.\n",
        "2. Silhouette method It is like each fruit can whisper tou you and tell you that how happy it is in its bag by give score. The Silhouette method is like listening to all those whispers to figure out if you've sorted the fruits into bags well by taking all these scores and averaging them to give an overall score. The score close to +1 means that the fruit is very happy because it's surrounded by similar fruits, and the socre about 0 means the fruit is cool and don't care about whcih bag it is in, and the score close to -1 means the fruit is very sad because it's surrounded by very different fruits. if many fruits are sad or cool, the he overall score will be low, you may need to reorganize the fruits into different bags by adjusting the number of bags or considering different fruit characteristics.\n",
        "\n",
        "DBSCAN (Density-Based Spatial Clustering of Applications with Noise)\n",
        "\n",
        "It is like organizing a group of children playing in a park into clusters based on how close they are to each other. we don't need to decide how many groups you want beforehand, you set rules for what makes a group. Like a group needs at least five children, and all members of the group need to be within arm's reach of someone else in the group. Children who are close enough to a group join it, and groups might merge if they get close enough to each other. Some children who prefer playing alone and don't reach out to others are not part of any group(It is like the noise in the DBSCAN). DBSCAN works similarly. It groups points that are closely packed together, and points in low-density regions are marked as 'noise'. This method is gvery ood when you don't know how many clusters to expect, or when your data might have outliers. The silhouette score helps to evaluate how well the points are clustered, with higher scores indicating better-defined clusters.\n",
        "\n",
        "Hierarchical Clustering\n",
        "It is like building a family tree for a set of ancient artifacts found at an archaeological site. Instead of sorting them into separate bages, you try to understand how these artifacts are related to each other, from the oldest to the newest. Hierarchical clustering starts by assuming every artifact is its own family (cluster). Then, it gradually links artifacts into families by their similarities, like materials or designs, until all artifacts are united into one big family (cluster). This method creates a tree diagram called a dendrogram, which shows the 'family' relationships. It allows us to choose the level of similarity at which we want to stop combining artifacts into families, which in turn determines the number of clusters. We can use the dendrogram to visually identify where to 'cut' the tree to get a sensible number of families,with the elbow method or silhouette score serving as tools to help decide on the best 'cut', ensuring that artifacts in the same family are as similar as possible.\n"
      ]
    },
    {
      "cell_type": "code",
      "execution_count": 1,
      "metadata": {},
      "outputs": [
        {
          "name": "stderr",
          "output_type": "stream",
          "text": [
            "/var/folders/px/bhxss9d10zs_wzsv0ck6sb200000gn/T/ipykernel_34909/8429475.py:11: DeprecationWarning: In a future version, `df.iloc[:, i] = newvals` will attempt to set the values inplace instead of always setting a new array. To retain the old behavior, use either `df[df.columns[i]] = newvals` or, if columns are non-unique, `df.isetitem(i, newvals)`\n",
            "  df_reduction.iloc[:, 1:8] = df_reduction.iloc[:, 1:8].apply(pd.to_numeric, errors='coerce')\n"
          ]
        },
        {
          "data": {
            "text/html": [
              "<div>\n",
              "<style scoped>\n",
              "    .dataframe tbody tr th:only-of-type {\n",
              "        vertical-align: middle;\n",
              "    }\n",
              "\n",
              "    .dataframe tbody tr th {\n",
              "        vertical-align: top;\n",
              "    }\n",
              "\n",
              "    .dataframe thead th {\n",
              "        text-align: right;\n",
              "    }\n",
              "</style>\n",
              "<table border=\"1\" class=\"dataframe\">\n",
              "  <thead>\n",
              "    <tr style=\"text-align: right;\">\n",
              "      <th></th>\n",
              "      <th>2017</th>\n",
              "      <th>Schizophrenia (%)</th>\n",
              "      <th>Bipolar disorder (%)</th>\n",
              "      <th>Eating disorders (%)</th>\n",
              "      <th>Anxiety disorders (%)</th>\n",
              "    </tr>\n",
              "  </thead>\n",
              "  <tbody>\n",
              "    <tr>\n",
              "      <th>0</th>\n",
              "      <td>-0.702995</td>\n",
              "      <td>-1.079808</td>\n",
              "      <td>-0.179703</td>\n",
              "      <td>-0.920185</td>\n",
              "      <td>0.731688</td>\n",
              "    </tr>\n",
              "    <tr>\n",
              "      <th>1</th>\n",
              "      <td>-0.501116</td>\n",
              "      <td>-0.221633</td>\n",
              "      <td>-0.202660</td>\n",
              "      <td>-0.519143</td>\n",
              "      <td>-0.544877</td>\n",
              "    </tr>\n",
              "    <tr>\n",
              "      <th>2</th>\n",
              "      <td>-0.527644</td>\n",
              "      <td>-0.298235</td>\n",
              "      <td>0.523775</td>\n",
              "      <td>-0.281972</td>\n",
              "      <td>0.888053</td>\n",
              "    </tr>\n",
              "    <tr>\n",
              "      <th>3</th>\n",
              "      <td>1.340754</td>\n",
              "      <td>1.316321</td>\n",
              "      <td>1.443806</td>\n",
              "      <td>2.301250</td>\n",
              "      <td>1.092253</td>\n",
              "    </tr>\n",
              "    <tr>\n",
              "      <th>4</th>\n",
              "      <td>-0.526368</td>\n",
              "      <td>-0.916482</td>\n",
              "      <td>-0.715177</td>\n",
              "      <td>-0.521562</td>\n",
              "      <td>-0.620196</td>\n",
              "    </tr>\n",
              "  </tbody>\n",
              "</table>\n",
              "</div>"
            ],
            "text/plain": [
              "       2017  Schizophrenia (%)  Bipolar disorder (%)  Eating disorders (%)  \\\n",
              "0 -0.702995          -1.079808             -0.179703             -0.920185   \n",
              "1 -0.501116          -0.221633             -0.202660             -0.519143   \n",
              "2 -0.527644          -0.298235              0.523775             -0.281972   \n",
              "3  1.340754           1.316321              1.443806              2.301250   \n",
              "4 -0.526368          -0.916482             -0.715177             -0.521562   \n",
              "\n",
              "   Anxiety disorders (%)  \n",
              "0               0.731688  \n",
              "1              -0.544877  \n",
              "2               0.888053  \n",
              "3               1.092253  \n",
              "4              -0.620196  "
            ]
          },
          "execution_count": 1,
          "metadata": {},
          "output_type": "execute_result"
        }
      ],
      "source": [
        "import pandas as pd\n",
        "import numpy as np\n",
        "from sklearn.impute import SimpleImputer\n",
        "from sklearn.preprocessing import LabelEncoder\n",
        "from sklearn.preprocessing import StandardScaler\n",
        "\n",
        "df_reduction=pd.read_csv('./Data/Reduction.csv')\n",
        "# print(df_reduction.isnull().sum())\n",
        "\n",
        "# Replace non-numeric entries with NaN\n",
        "df_reduction.iloc[:, 1:8] = df_reduction.iloc[:, 1:8].apply(pd.to_numeric, errors='coerce')\n",
        "# [1:8] means from column 1 to column 7 because column 0 and 8 are not numeric\n",
        "# The apply(pd.to_numeric, errors='coerce') method attempts to convert all entries in the specified columns to numeric values.\n",
        "# If it encounters any entry that cannot be converted (like a string 'no data'), it replaces it with NaN (Not a Number), a standard missing dat\n",
        "\n",
        "# Impute missing values with the mean of the column\n",
        "imputer = SimpleImputer(strategy='mean')\n",
        "df_reduction.iloc[:, 1:8] = imputer.fit_transform(df_reduction.iloc[:, 1:8])\n",
        "\n",
        "#impute missing values with the mode\n",
        "df_reduction['Income group'] = df_reduction['Income group'].fillna(df_reduction['Income group'].mode()[0])\n",
        "df_reduction.isnull().sum()\n",
        "\n",
        "#lable encoding: encode the categorical data into numeric \n",
        "label_encoder = LabelEncoder()\n",
        "df_reduction['Income group'] = label_encoder.fit_transform(df_reduction['Income group'])\n",
        "# df_reduction['Economy']=label_encoder.fit_transform(df_reduction['Economy'])\n",
        "df_reduction.isnull().sum()\n",
        "# Feature Scaling\n",
        "scaler = StandardScaler()\n",
        "scaled_features = scaler.fit_transform(df_reduction.iloc[:, 1:])\n",
        "\n",
        "# Creating a new DataFrame for the scaled features\n",
        "scaled_df = pd.DataFrame(scaled_features, columns=df_reduction.columns[1:])\n",
        "scaled_df.drop(['Income group'], axis=1, inplace=True)\n",
        "#after dimentional reduction, we drop the columns that are not important 'average_learning_Adjusted_of_school'and 'scaled_df.drop(['Depression (%)'], axis=1, inplace=True)'\n",
        "scaled_df.drop(['average_learning_Adjusted_of_school'], axis=1, inplace=True)\n",
        "scaled_df.drop(['Depression (%)'], axis=1, inplace=True)\n",
        "scaled_df.head()  "
      ]
    },
    {
      "cell_type": "markdown",
      "metadata": {},
      "source": [
        "### K-Means Clustering\n",
        "\n",
        "### Hyper-parameter tuning"
      ]
    },
    {
      "cell_type": "code",
      "execution_count": 2,
      "metadata": {},
      "outputs": [
        {
          "name": "stderr",
          "output_type": "stream",
          "text": [
            "/Users/bella/anaconda3/lib/python3.11/site-packages/sklearn/cluster/_kmeans.py:1416: FutureWarning: The default value of `n_init` will change from 10 to 'auto' in 1.4. Set the value of `n_init` explicitly to suppress the warning\n",
            "  super()._check_params_vs_input(X, default_n_init=10)\n",
            "/Users/bella/anaconda3/lib/python3.11/site-packages/sklearn/cluster/_kmeans.py:1416: FutureWarning: The default value of `n_init` will change from 10 to 'auto' in 1.4. Set the value of `n_init` explicitly to suppress the warning\n",
            "  super()._check_params_vs_input(X, default_n_init=10)\n",
            "/Users/bella/anaconda3/lib/python3.11/site-packages/sklearn/cluster/_kmeans.py:1416: FutureWarning: The default value of `n_init` will change from 10 to 'auto' in 1.4. Set the value of `n_init` explicitly to suppress the warning\n",
            "  super()._check_params_vs_input(X, default_n_init=10)\n",
            "/Users/bella/anaconda3/lib/python3.11/site-packages/sklearn/cluster/_kmeans.py:1416: FutureWarning: The default value of `n_init` will change from 10 to 'auto' in 1.4. Set the value of `n_init` explicitly to suppress the warning\n",
            "  super()._check_params_vs_input(X, default_n_init=10)\n",
            "/Users/bella/anaconda3/lib/python3.11/site-packages/sklearn/cluster/_kmeans.py:1416: FutureWarning: The default value of `n_init` will change from 10 to 'auto' in 1.4. Set the value of `n_init` explicitly to suppress the warning\n",
            "  super()._check_params_vs_input(X, default_n_init=10)\n",
            "/Users/bella/anaconda3/lib/python3.11/site-packages/sklearn/cluster/_kmeans.py:1416: FutureWarning: The default value of `n_init` will change from 10 to 'auto' in 1.4. Set the value of `n_init` explicitly to suppress the warning\n",
            "  super()._check_params_vs_input(X, default_n_init=10)\n",
            "/Users/bella/anaconda3/lib/python3.11/site-packages/sklearn/cluster/_kmeans.py:1416: FutureWarning: The default value of `n_init` will change from 10 to 'auto' in 1.4. Set the value of `n_init` explicitly to suppress the warning\n",
            "  super()._check_params_vs_input(X, default_n_init=10)\n",
            "/Users/bella/anaconda3/lib/python3.11/site-packages/sklearn/cluster/_kmeans.py:1416: FutureWarning: The default value of `n_init` will change from 10 to 'auto' in 1.4. Set the value of `n_init` explicitly to suppress the warning\n",
            "  super()._check_params_vs_input(X, default_n_init=10)\n",
            "/Users/bella/anaconda3/lib/python3.11/site-packages/sklearn/cluster/_kmeans.py:1416: FutureWarning: The default value of `n_init` will change from 10 to 'auto' in 1.4. Set the value of `n_init` explicitly to suppress the warning\n",
            "  super()._check_params_vs_input(X, default_n_init=10)\n"
          ]
        },
        {
          "data": {
            "image/png": "[encoded data removed]",
            "text/plain": [
              "<Figure size 1400x600 with 2 Axes>"
            ]
          },
          "metadata": {},
          "output_type": "display_data"
        },
        {
          "name": "stdout",
          "output_type": "stream",
          "text": [
            "[395.6264643765347, 270.73403477419953, 221.27963486826846, 191.75725981806818, 164.810662792652, 147.53986259365348, 132.15740733843762, 117.00102367563264, 111.14912391808826]\n",
            "[0.5323995929991122, 0.41255351593599066, 0.41295197246033155, 0.40113679560741355, 0.38519758564180123, 0.3885688102388548, 0.3904223089727881, 0.40040302538406963, 0.3982387901808518]\n"
          ]
        }
      ],
      "source": [
        "from sklearn.cluster import KMeans\n",
        "import matplotlib.pyplot as plt\n",
        "from sklearn.metrics import silhouette_score\n",
        "\n",
        "# Determining the optimal number of clusters for K-Means using Elbow Method and Silhouette Score\n",
        "inertia = [] # inertia values for different clusters of K-Means\n",
        "#Inertia is the sum of squared distances of samples to their closest cluster center.\n",
        "silhouette_scores = []  # silhouette scores for different clusters\n",
        "K_range = range(2, 11) # defining the range of clusters to try(2-10)\n",
        "\n",
        "for K in K_range:\n",
        "    kmeans = KMeans(n_clusters=K, random_state=0)\n",
        "    kmeans.fit(scaled_df)\n",
        "    inertia.append( kmeans.inertia_) #iertia is the sum of squared distances of samples to their closest cluster center.\n",
        "    silhouette_scores.append(silhouette_score(scaled_df, kmeans.labels_)) #The silhouette score is a measure of how similar an object is to its own cluster compared to other clusters.\n",
        "\n",
        "# Plotting the Elbow Method results\n",
        "plt.figure(figsize=(14, 6))\n",
        "\n",
        "plt.subplot(1, 2, 1)\n",
        "plt.plot(K_range, inertia, marker='o')\n",
        "plt.xlabel('Number of clusters')\n",
        "plt.ylabel('Inertia')\n",
        "plt.title('Elbow Method For Optimal K')\n",
        "\n",
        "# Plotting the Silhouette Scores\n",
        "plt.subplot(1, 2, 2)\n",
        "plt.plot(K_range, silhouette_scores, marker='o')\n",
        "plt.xlabel('Number of clusters')\n",
        "plt.ylabel('Silhouette Score')\n",
        "plt.title('Silhouette Scores For K-Means')\n",
        "\n",
        "plt.tight_layout()\n",
        "plt.show()\n",
        "print(inertia)\n",
        "print(silhouette_scores)\n",
        "\n",
        "\n",
        "# Finding the 'elbow' point in the inertia plot\n",
        "# This is typically done by visual inspection, but you can try an algorithmic approach\n",
        "elbow_point = K_range[inertia.index(min(inertia, key=lambda x: abs(x - inertia[0]/2)))]"
      ]
    },
    {
      "cell_type": "code",
      "execution_count": 3,
      "metadata": {},
      "outputs": [
        {
          "data": {
            "text/plain": [
              "(5, 0.5323995929991122, 2)"
            ]
          },
          "execution_count": 3,
          "metadata": {},
          "output_type": "execute_result"
        }
      ],
      "source": [
        "# Finding the highest silhouette score\n",
        "highest_silhouette_score = max(silhouette_scores)\n",
        "optimal_clusters_silhouette = silhouette_scores.index(highest_silhouette_score) + 2  # Adding 2 because range starts from 2\n",
        "elbow_point, highest_silhouette_score, optimal_clusters_silhouette"
      ]
    },
    {
      "cell_type": "markdown",
      "metadata": {},
      "source": [
        "Elbow Method: The inertia plot again shows the sum of squared distances to the closest cluster center. The 'elbow' in this plot suggests the optimal number of clusters. inertia decreases with increasing k, however, after which the rate of decrease slows down and the point is called the elbow, and in this case, it is 4 \n",
        "\n",
        "Silhouette Score: The silhouette score plot measures the quality of the clusters formed. Higher scores indicate more clearly defined clusters. The highest silhouette score is obtained with 2 clusters. \n",
        "\n",
        "These two methods suggest different optimal numbers of clusters. This is not uncommon, as different methods can highlight different aspects of the data's structure.    \n",
        "\n",
        "### DBSCAN Clustering\n",
        "#### Hyper-parameter tuning"
      ]
    },
    {
      "cell_type": "code",
      "execution_count": 4,
      "metadata": {},
      "outputs": [
        {
          "name": "stdout",
          "output_type": "stream",
          "text": [
            "    eps  min_samples  number of clusters  silhouett score\n",
            "0   0.1            6                   2        -0.129657\n",
            "1   0.2            6                   3        -0.028703\n",
            "2   0.3            6                   4        -0.141168\n",
            "3   0.4            6                   4        -0.062172\n",
            "4   0.5            6                   6         0.157742\n",
            "5   0.6            6                   4         0.291174\n",
            "6   0.7            6                   4         0.345045\n",
            "7   0.8            6                   4         0.365894\n",
            "8   0.9            6                   3         0.325856\n",
            "9   1.0            6                   3         0.434721\n",
            "10  1.1            6                   3         0.450710\n",
            "11  1.2            6                   3         0.472156\n",
            "12  1.3            6                   2         0.425741\n",
            "13  1.4            6                   2         0.446892\n",
            "14  1.5            6                   2         0.487558\n",
            "15  1.6            6                   2         0.508582\n",
            "16  1.7            6                   2         0.508582\n",
            "17  1.8            6                   2         0.508582\n",
            "18  1.9            6                   2         0.531263\n",
            "Index(['eps', 'min_samples', 'number of clusters', 'silhouett score'], dtype='object')\n"
          ]
        },
        {
          "data": {
            "image/png": "[encoded data removed]",
            "text/plain": [
              "<Figure size 640x480 with 1 Axes>"
            ]
          },
          "metadata": {},
          "output_type": "display_data"
        }
      ],
      "source": [
        "from sklearn.metrics import silhouette_score\n",
        "from sklearn.cluster import KMeans, AgglomerativeClustering, MeanShift, Birch, DBSCAN\n",
        "import seaborn as sns\n",
        "##eps_values will be tested as the eps parameter of the DBSCAN\n",
        "#algorithm to determine the optimal distance within which points are considered neighbors.\n",
        "eps_values = np.arange(0.1, 2.0, 0.1) # eps_values is the maximum distance between two samples for one to be considered as in the neighborhood of the other,\n",
        "# Initialize the results list\n",
        "results = []\n",
        "# Iterate over all the combinations of eps and min_samples\n",
        "for eps in eps_values:\n",
        "    db = DBSCAN(eps=eps, min_samples=scaled_df.shape[1]+1) # min_samples must be be higher than the number of features at the very least(nd min_samples is the number of samples in a neighborhood for a point to be considered as a core point.)\n",
        "    clusters = db.fit_predict(scaled_df)\n",
        "    # Only calculate the silhouette score if there is more than one cluster\n",
        "    # DBSCAN can sometimes mark all or nearly all points as noise, especially if eps is to\n",
        "    if len(np.unique(clusters)) > 1:\n",
        "        score = silhouette_score(scaled_df, clusters)\n",
        "        results.append((eps, scaled_df.shape[1]+1, len(np.unique(clusters)), score))\n",
        "# Convert the results list to a Pandas DataFrame\n",
        "df = pd.DataFrame(results, columns=['eps', 'min_samples', 'number of clusters', 'silhouett score'])\n",
        "print(df)\n",
        "df.columns = df.columns.str.strip()\n",
        "print(df.columns)\n",
        "# Plot the silhouette score vs the number of clusters\n",
        "sns.barplot(data=df, x = 'number of clusters', y = 'silhouett score')\n",
        "plt.ylabel('Silhouett score')\n",
        "plt.xlabel('Clusters')\n",
        "plt.title('Number of Clusters vs Silhouette Score')\n",
        "plt.show()"
      ]
    },
    {
      "cell_type": "markdown",
      "metadata": {},
      "source": [
        "### Hierarchical Clustering\n",
        "#### Hyper-parameter tuning"
      ]
    },
    {
      "cell_type": "code",
      "execution_count": 5,
      "metadata": {},
      "outputs": [
        {
          "name": "stdout",
          "output_type": "stream",
          "text": [
            "   Clusters  Silhouette score\n",
            "0         2          0.550779\n",
            "1         3          0.409917\n",
            "2         4          0.413450\n",
            "3         5          0.398937\n",
            "4         6          0.364482\n",
            "5         7          0.370408\n",
            "6         8          0.377807\n",
            "7         9          0.386036\n",
            "8        10          0.368499\n"
          ]
        },
        {
          "data": {
            "image/png": "[encoded data removed]",
            "text/plain": [
              "<Figure size 640x480 with 1 Axes>"
            ]
          },
          "metadata": {},
          "output_type": "display_data"
        }
      ],
      "source": [
        "# Perform Agglomerative Clustering\n",
        "Agg = AgglomerativeClustering\n",
        "si_scores = []\n",
        "for n in range(2,11):\n",
        "    agglomerative = Agg(n_clusters = n)\n",
        "    agglomerative.fit(scaled_df)\n",
        "    si_scores.append((n, silhouette_score(scaled_df, agglomerative.labels_)))\n",
        "    # The silhouette score is a measure of how similar an object is to its own cluster com\n",
        "df = pd.DataFrame(si_scores, columns=[\"Clusters\",\"Silhouette score\"])\n",
        "print(df)\n",
        "sns.barplot(data=df, x = 'Clusters', y = 'Silhouette score')\n",
        "plt.ylabel('Silhouette Score')\n",
        "plt.xlabel('Clusters')\n",
        "plt.title('Number of Clusters vs Silhouette Score')\n",
        "plt.show()"
      ]
    },
    {
      "cell_type": "code",
      "execution_count": 6,
      "metadata": {},
      "outputs": [
        {
          "data": {
            "image/png": "[encoded data removed]",
            "text/plain": [
              "<Figure size 640x480 with 1 Axes>"
            ]
          },
          "metadata": {},
          "output_type": "display_data"
        }
      ],
      "source": [
        "### Plot the clusters for Agglomerative Clustering\n",
        "  # create linkage for agglomerative clustering, and the dendrogram for the linkage.\n",
        "  #  Suggest the optimal number of clusters based on the dendrogram.\n",
        "from scipy.cluster.hierarchy import dendrogram, linkage\n",
        "linkage_matrix = linkage(scaled_df, 'ward')\n",
        "dendrogram(linkage_matrix)\n",
        "plt.title('Dendrogram')\n",
        "plt.xlabel('Income group')\n",
        "plt.ylabel('Euclidean Distance')\n",
        "plt.show()"
      ]
    },
    {
      "cell_type": "markdown",
      "metadata": {},
      "source": [
        "### Final results\n",
        "Re-do the analysis with the optimal parameter 2 using K-means, DBSCAN, and Hierarchical clustering."
      ]
    },
    {
      "cell_type": "code",
      "execution_count": 7,
      "metadata": {},
      "outputs": [
        {
          "name": "stdout",
          "output_type": "stream",
          "text": [
            "       Economy       2017  Schizophrenia (%)  Bipolar disorder (%)  \\\n",
            "0  Afghanistan    635.789           0.166158              0.708089   \n",
            "1      Albania   4525.887           0.201025              0.704480   \n",
            "2      Algeria   4014.707           0.197913              0.818687   \n",
            "3      Andorra  40017.741           0.263512              0.963331   \n",
            "4       Angola   4039.300           0.172794              0.623904   \n",
            "\n",
            "   Eating disorders (%)  Anxiety disorders (%)  Depression (%)  \\\n",
            "0              0.107142               4.882481        4.136347   \n",
            "1              0.174046               3.385245        2.208414   \n",
            "2              0.213612               5.065876        3.661094   \n",
            "3              0.644559               5.305375        3.729532   \n",
            "4              0.173643               3.296906        4.160484   \n",
            "\n",
            "   average_learning_Adjusted_of_school  Income group  Cluster  \n",
            "0                             4.957542             1        0  \n",
            "1                             8.526723             3        0  \n",
            "2                             7.045445             2        0  \n",
            "3                             7.828811             0        1  \n",
            "4                             4.193318             2        0  \n",
            "[[-0.42293209 -0.34972141 -0.3352707  -0.45381881 -0.36193107]\n",
            " [ 1.47454702  1.21929895  1.16891675  1.58223313  1.26186779]]\n",
            "0    129\n",
            "1     37\n",
            "Name: Cluster, dtype: int64\n"
          ]
        },
        {
          "name": "stderr",
          "output_type": "stream",
          "text": [
            "/Users/bella/anaconda3/lib/python3.11/site-packages/sklearn/cluster/_kmeans.py:1416: FutureWarning: The default value of `n_init` will change from 10 to 'auto' in 1.4. Set the value of `n_init` explicitly to suppress the warning\n",
            "  super()._check_params_vs_input(X, default_n_init=10)\n"
          ]
        }
      ],
      "source": [
        "# Applying K-Means clustering with 2 clusters\n",
        "kmeans = KMeans(n_clusters=2, random_state=0)\n",
        "kmeans.fit(scaled_df)  ## This line fits the KMeans model to your scaled dataset \n",
        "\n",
        "# Cluster labels\n",
        "cluster_labels = kmeans.labels_ ## This line extracts the cluster labels from the KMeans model\n",
        "\n",
        "# Adding the cluster labels to the original DataFrame\n",
        "df_clustered = df_reduction.copy()\n",
        "df_clustered['Cluster'] = cluster_labels\n",
        "\n",
        "# Analyzing the distribution of data points among the clusters\n",
        "cluster_distribution = df_clustered['Cluster'].value_counts() ## This line counts the number of data points in each cluster\n",
        "\n",
        "# Displaying the cluster centroids and distribution\n",
        "centroids = kmeans.cluster_centers_ # This line retrieves the centroids of the clusters\n",
        "print(df_clustered.head())\n",
        "print(centroids)\n",
        "print(cluster_distribution)"
      ]
    },
    {
      "cell_type": "code",
      "execution_count": 8,
      "metadata": {},
      "outputs": [
        {
          "data": {
            "application/vnd.plotly.v1+json": {
              "config": {
                "plotlyServerURL": "https://plot.ly"
              },
              "data": [
                {
                  "customdata": [
                    [
                      "Afghanistan"
                    ],
                    [
                      "Albania"
                    ],
                    [
                      "Algeria"
                    ],
                    [
                      "Andorra"
                    ],
                    [
                      "Angola"
                    ],
                    [
                      "Antigua and Barbuda"
                    ],
                    [
                      "Argentina"
                    ],
                    [
                      "Armenia"
                    ],
                    [
                      "Australia"
                    ],
                    [
                      "Austria"
                    ],
                    [
                      "Azerbaijan"
                    ],
                    [
                      "Bahrain"
                    ],
                    [
                      "Bangladesh"
                    ],
                    [
                      "Barbados"
                    ],
                    [
                      "Belarus"
                    ],
                    [
                      "Belgium"
                    ],
                    [
                      "Belize"
                    ],
                    [
                      "Benin"
                    ],
                    [
                      "Bhutan"
                    ],
                    [
                      "Bolivia"
                    ],
                    [
                      "Bosnia and Herzegovina"
                    ],
                    [
                      "Botswana"
                    ],
                    [
                      "Brazil"
                    ],
                    [
                      "Bulgaria"
                    ],
                    [
                      "Burkina Faso"
                    ],
                    [
                      "Burundi"
                    ],
                    [
                      "Cambodia"
                    ],
                    [
                      "Cameroon"
                    ],
                    [
                      "Canada"
                    ],
                    [
                      "Central African Republic"
                    ],
                    [
                      "Chad"
                    ],
                    [
                      "Chile"
                    ],
                    [
                      "Colombia"
                    ],
                    [
                      "Comoros"
                    ],
                    [
                      "Costa Rica"
                    ],
                    [
                      "Croatia"
                    ],
                    [
                      "Cyprus"
                    ],
                    [
                      "Czech Republic"
                    ],
                    [
                      "Denmark"
                    ],
                    [
                      "Djibouti"
                    ],
                    [
                      "Dominica"
                    ],
                    [
                      "Dominican Republic"
                    ],
                    [
                      "Ecuador"
                    ],
                    [
                      "Egypt"
                    ],
                    [
                      "El Salvador"
                    ],
                    [
                      "Equatorial Guinea"
                    ],
                    [
                      "Eritrea"
                    ],
                    [
                      "Estonia"
                    ],
                    [
                      "Ethiopia"
                    ],
                    [
                      "Fiji"
                    ],
                    [
                      "Finland"
                    ],
                    [
                      "France"
                    ],
                    [
                      "Gabon"
                    ],
                    [
                      "Georgia"
                    ],
                    [
                      "Germany"
                    ],
                    [
                      "Ghana"
                    ],
                    [
                      "Greece"
                    ],
                    [
                      "Grenada"
                    ],
                    [
                      "Guatemala"
                    ],
                    [
                      "Guinea"
                    ],
                    [
                      "Guinea-Bissau"
                    ],
                    [
                      "Guyana"
                    ],
                    [
                      "Haiti"
                    ],
                    [
                      "Honduras"
                    ],
                    [
                      "Hungary"
                    ],
                    [
                      "Iceland"
                    ],
                    [
                      "India"
                    ],
                    [
                      "Indonesia"
                    ],
                    [
                      "Iran"
                    ],
                    [
                      "Iraq"
                    ],
                    [
                      "Ireland"
                    ],
                    [
                      "Israel"
                    ],
                    [
                      "Italy"
                    ],
                    [
                      "Jamaica"
                    ],
                    [
                      "Japan"
                    ],
                    [
                      "Jordan"
                    ],
                    [
                      "Kazakhstan"
                    ],
                    [
                      "Kenya"
                    ],
                    [
                      "Kiribati"
                    ],
                    [
                      "Kuwait"
                    ],
                    [
                      "Latvia"
                    ],
                    [
                      "Lebanon"
                    ],
                    [
                      "Lesotho"
                    ],
                    [
                      "Liberia"
                    ],
                    [
                      "Libya"
                    ],
                    [
                      "Lithuania"
                    ],
                    [
                      "Luxembourg"
                    ],
                    [
                      "Madagascar"
                    ],
                    [
                      "Malawi"
                    ],
                    [
                      "Malaysia"
                    ],
                    [
                      "Maldives"
                    ],
                    [
                      "Mali"
                    ],
                    [
                      "Malta"
                    ],
                    [
                      "Marshall Islands"
                    ],
                    [
                      "Mauritania"
                    ],
                    [
                      "Mauritius"
                    ],
                    [
                      "Mexico"
                    ],
                    [
                      "Moldova"
                    ],
                    [
                      "Mongolia"
                    ],
                    [
                      "Montenegro"
                    ],
                    [
                      "Morocco"
                    ],
                    [
                      "Mozambique"
                    ],
                    [
                      "Myanmar"
                    ],
                    [
                      "Namibia"
                    ],
                    [
                      "Nepal"
                    ],
                    [
                      "Netherlands"
                    ],
                    [
                      "New Zealand"
                    ],
                    [
                      "Nicaragua"
                    ],
                    [
                      "Niger"
                    ],
                    [
                      "Nigeria"
                    ],
                    [
                      "Norway"
                    ],
                    [
                      "Oman"
                    ],
                    [
                      "Pakistan"
                    ],
                    [
                      "Panama"
                    ],
                    [
                      "Papua New Guinea"
                    ],
                    [
                      "Paraguay"
                    ],
                    [
                      "Peru"
                    ],
                    [
                      "Philippines"
                    ],
                    [
                      "Poland"
                    ],
                    [
                      "Portugal"
                    ],
                    [
                      "Puerto Rico"
                    ],
                    [
                      "Qatar"
                    ],
                    [
                      "Romania"
                    ],
                    [
                      "Rwanda"
                    ],
                    [
                      "Saint Lucia"
                    ],
                    [
                      "Saint Vincent and the Grenadines"
                    ],
                    [
                      "Samoa"
                    ],
                    [
                      "Saudi Arabia"
                    ],
                    [
                      "Senegal"
                    ],
                    [
                      "Serbia"
                    ],
                    [
                      "Seychelles"
                    ],
                    [
                      "Sierra Leone"
                    ],
                    [
                      "Singapore"
                    ],
                    [
                      "Slovenia"
                    ],
                    [
                      "Solomon Islands"
                    ],
                    [
                      "Somalia"
                    ],
                    [
                      "South Africa"
                    ],
                    [
                      "Spain"
                    ],
                    [
                      "Sri Lanka"
                    ],
                    [
                      "Sudan"
                    ],
                    [
                      "Suriname"
                    ],
                    [
                      "Sweden"
                    ],
                    [
                      "Switzerland"
                    ],
                    [
                      "Syria"
                    ],
                    [
                      "Tajikistan"
                    ],
                    [
                      "Tanzania"
                    ],
                    [
                      "Thailand"
                    ],
                    [
                      "Togo"
                    ],
                    [
                      "Tonga"
                    ],
                    [
                      "Trinidad and Tobago"
                    ],
                    [
                      "Tunisia"
                    ],
                    [
                      "Turkmenistan"
                    ],
                    [
                      "Uganda"
                    ],
                    [
                      "Ukraine"
                    ],
                    [
                      "United Arab Emirates"
                    ],
                    [
                      "United Kingdom"
                    ],
                    [
                      "United States"
                    ],
                    [
                      "Uruguay"
                    ],
                    [
                      "Uzbekistan"
                    ],
                    [
                      "Vanuatu"
                    ],
                    [
                      "Venezuela"
                    ],
                    [
                      "Vietnam"
                    ],
                    [
                      "Yemen"
                    ],
                    [
                      "Zambia"
                    ],
                    [
                      "Zimbabwe"
                    ],
                    [
                      "World"
                    ]
                  ],
                  "hovertemplate": "Schizophrenia (%)=%{x}<br>Eating disorders (%)=%{y}<br>Economy=%{customdata[0]}<br>Cluster=%{marker.color}<extra></extra>",
                  "legendgroup": "",
                  "marker": {
                    "color": [
                      0,
                      0,
                      0,
                      1,
                      0,
                      0,
                      1,
                      0,
                      1,
                      1,
                      0,
                      0,
                      0,
                      1,
                      0,
                      1,
                      0,
                      0,
                      0,
                      0,
                      0,
                      0,
                      1,
                      0,
                      0,
                      0,
                      0,
                      0,
                      1,
                      0,
                      0,
                      1,
                      0,
                      0,
                      0,
                      0,
                      1,
                      0,
                      1,
                      0,
                      0,
                      0,
                      0,
                      0,
                      0,
                      0,
                      0,
                      0,
                      0,
                      0,
                      1,
                      1,
                      0,
                      0,
                      1,
                      0,
                      1,
                      0,
                      0,
                      0,
                      0,
                      0,
                      0,
                      0,
                      0,
                      1,
                      0,
                      0,
                      0,
                      0,
                      1,
                      1,
                      1,
                      0,
                      1,
                      0,
                      0,
                      0,
                      0,
                      1,
                      0,
                      0,
                      0,
                      0,
                      0,
                      0,
                      1,
                      0,
                      0,
                      0,
                      0,
                      0,
                      1,
                      0,
                      0,
                      0,
                      0,
                      0,
                      0,
                      0,
                      0,
                      0,
                      0,
                      0,
                      0,
                      1,
                      1,
                      0,
                      0,
                      0,
                      1,
                      0,
                      0,
                      0,
                      0,
                      1,
                      0,
                      0,
                      0,
                      1,
                      1,
                      1,
                      0,
                      0,
                      0,
                      0,
                      0,
                      0,
                      0,
                      0,
                      0,
                      0,
                      1,
                      0,
                      0,
                      0,
                      0,
                      1,
                      0,
                      0,
                      0,
                      1,
                      1,
                      0,
                      0,
                      0,
                      0,
                      0,
                      0,
                      0,
                      0,
                      0,
                      0,
                      0,
                      0,
                      1,
                      1,
                      1,
                      0,
                      0,
                      0,
                      0,
                      0,
                      0,
                      0,
                      0
                    ],
                    "coloraxis": "coloraxis",
                    "size": 12,
                    "symbol": "circle"
                  },
                  "mode": "markers",
                  "name": "",
                  "orientation": "v",
                  "showlegend": false,
                  "type": "scatter",
                  "x": [
                    0.166157851965,
                    0.201025478973,
                    0.197913139914999,
                    0.263512450809,
                    0.17279380396,
                    0.206408818879999,
                    0.19809369227,
                    0.197364768091,
                    0.363326333425,
                    0.256957852233,
                    0.199997827826,
                    0.206968624015999,
                    0.252599547699,
                    0.229385586889,
                    0.197650078792999,
                    0.258072602791,
                    0.194921776429,
                    0.170321752983999,
                    0.267637210022,
                    0.193935503544,
                    0.20070295069,
                    0.181927802991,
                    0.205534039798,
                    0.202455336778,
                    0.164744558656,
                    0.154394080898,
                    0.208266148232,
                    0.170795518611,
                    0.315588104492,
                    0.149087097362,
                    0.168019370423,
                    0.201430396901,
                    0.207210793076,
                    0.170251722541,
                    0.213890053455,
                    0.207565417697999,
                    0.252271953776,
                    0.20998906177,
                    0.254016902974,
                    0.175443945619,
                    0.199904066276,
                    0.199461740299,
                    0.202911590059,
                    0.188117075278999,
                    0.197831002875,
                    0.18533360608,
                    0.158711073736,
                    0.203977642902,
                    0.164823052944,
                    0.238571847376,
                    0.257444377924,
                    0.256237904708,
                    0.181545884718,
                    0.196775607848999,
                    0.252269313545,
                    0.175605914654,
                    0.252700836389,
                    0.199821963506,
                    0.193343638198,
                    0.166392762237999,
                    0.163117115414999,
                    0.186468100603,
                    0.172298258053,
                    0.189815205978,
                    0.205524223022,
                    0.257616535208,
                    0.257864000572999,
                    0.230297325067,
                    0.201307454514,
                    0.1897286051,
                    0.328007666524999,
                    0.25913933072,
                    0.236197452312,
                    0.199270486805999,
                    0.295577743427,
                    0.19388561947,
                    0.199892478404,
                    0.17083626393,
                    0.208107779709,
                    0.214850667734,
                    0.199509601255,
                    0.198375561913,
                    0.161376284077,
                    0.161454262144,
                    0.192848517603,
                    0.200982414615,
                    0.263622240872,
                    0.164280108974999,
                    0.154532582813,
                    0.252984360679,
                    0.244707357051,
                    0.167750884959,
                    0.257631743485,
                    0.218616059586,
                    0.179205385342999,
                    0.242184799683,
                    0.211765456029,
                    0.183710487522,
                    0.190647636897,
                    0.203247600082,
                    0.186616021106,
                    0.156176372581,
                    0.21391517103,
                    0.177365159223,
                    0.246394000873,
                    0.358487187971999,
                    0.341050948856,
                    0.199562758242,
                    0.163844826257,
                    0.182126448626,
                    0.211483839907,
                    0.202474315485,
                    0.256441676608999,
                    0.213259242938,
                    0.209554725405,
                    0.202425561991999,
                    0.203293010207,
                    0.224422402379,
                    0.207809899983,
                    0.249372352701,
                    0.212346567195,
                    0.215139530228,
                    0.201194504404,
                    0.163688249993,
                    0.199945007781999,
                    0.196204451426,
                    0.234876448168,
                    0.205707390981,
                    0.173616152452,
                    0.200264020274999,
                    0.247689163047999,
                    0.165455342335,
                    0.2740898744,
                    0.211823740181999,
                    0.210462281761,
                    0.153911904955,
                    0.181937295399,
                    0.281538914044,
                    0.238044780907,
                    0.176166977769,
                    0.186999332463,
                    0.270391824818,
                    0.262486901768,
                    0.188965548959,
                    0.182117006992999,
                    0.165215400013,
                    0.234878534731,
                    0.164575407164,
                    0.235881120892,
                    0.177600289326,
                    0.198098809372,
                    0.197340311887,
                    0.160207615714,
                    0.190965773273,
                    0.2107177342,
                    0.262952341558,
                    0.333889942363,
                    0.198965427947999,
                    0.188464037303,
                    0.214734298653999,
                    0.205536618376,
                    0.244662787417,
                    0.171690746660999,
                    0.16586619176,
                    0.157963235821,
                    0.254055151307
                  ],
                  "xaxis": "x",
                  "y": [
                    0.107142265558,
                    0.174046095006,
                    0.213612216088,
                    0.644558566578,
                    0.173642511006,
                    0.350367843984,
                    0.404033163099,
                    0.167047141359999,
                    0.943081003971999,
                    0.675111961603,
                    0.204891197681,
                    0.273714301731,
                    0.137974267122,
                    0.320598997921,
                    0.210693402008,
                    0.603868895678,
                    0.258710442087,
                    0.120290320775999,
                    0.172339624531,
                    0.305250563203999,
                    0.172474446404,
                    0.227732855648,
                    0.277050765272,
                    0.202411206361,
                    0.113354225407,
                    0.0908023408812,
                    0.108378572317,
                    0.133790101708,
                    0.477304277231,
                    0.0891832048568,
                    0.122128893812999,
                    0.416122857107999,
                    0.260257216714,
                    0.110911467084999,
                    0.289341841884,
                    0.217975135979,
                    0.506721279036,
                    0.242372761022,
                    0.540025324966,
                    0.136660105677,
                    0.277126535179,
                    0.303058121152,
                    0.363732807614,
                    0.19294203792,
                    0.243873188283,
                    0.277336567698,
                    0.102502520428,
                    0.250270742469,
                    0.109816928768,
                    0.147252649755,
                    0.594937626869,
                    0.573755286605,
                    0.226577373688,
                    0.171640059024,
                    0.522066337436999,
                    0.147451582312999,
                    0.559323569808,
                    0.288173878252,
                    0.232110380606,
                    0.112388230779,
                    0.110998627272,
                    0.237636118540999,
                    0.160789636446,
                    0.20333887837,
                    0.237686389914,
                    0.558013746386,
                    0.157758124999,
                    0.148781505161,
                    0.231894488144,
                    0.208672060932,
                    0.55999469536,
                    0.461175310548,
                    0.626783642641999,
                    0.259650413718,
                    0.45437860865,
                    0.188925295652,
                    0.227917724331,
                    0.135004852566999,
                    0.0936135103393,
                    0.34657953292,
                    0.225275373673,
                    0.219049411138,
                    0.136800869544,
                    0.0915913234458,
                    0.195726048930999,
                    0.234094900677999,
                    0.737916535924,
                    0.106417184832,
                    0.100349371553999,
                    0.20146154356,
                    0.157213639846,
                    0.116674521249,
                    0.519139981796,
                    0.111895399416,
                    0.145275716491,
                    0.184432747958,
                    0.316975449214,
                    0.141700867982,
                    0.180157029855,
                    0.194161147929,
                    0.175569110624,
                    0.103227218784,
                    0.125738282771,
                    0.200987330717,
                    0.128494755201,
                    0.467844098788999,
                    0.67329002752,
                    0.205876035268999,
                    0.0961159064726999,
                    0.163373451865,
                    0.570362636085,
                    0.254958104663,
                    0.154582740589,
                    0.316650159126,
                    0.104959860846,
                    0.238288430861,
                    0.369215968601,
                    0.134855317973,
                    0.229484902870999,
                    0.513078804556,
                    0.412628264067,
                    0.318165202676,
                    0.200699607577999,
                    0.115817094932,
                    0.286340742496,
                    0.274837148978,
                    0.126132451514,
                    0.289615222745,
                    0.125290134054,
                    0.18714734744,
                    0.197452039361999,
                    0.109798763944,
                    0.553711598487,
                    0.239635828094,
                    0.0941887907665,
                    0.0798960978525,
                    0.214718050332999,
                    0.730626188558,
                    0.159144309374,
                    0.147024605158,
                    0.307738346379,
                    0.574608279695,
                    0.57396869509,
                    0.159348883888,
                    0.118225809187,
                    0.129856670927,
                    0.173201970407,
                    0.108107371501999,
                    0.125706097245,
                    0.389695652593999,
                    0.200171736786,
                    0.20147664564,
                    0.119309486967999,
                    0.172715421693,
                    0.262206645696,
                    0.543053614094,
                    0.512844329383,
                    0.40550153492,
                    0.153735023976,
                    0.106462399086,
                    0.2826904166,
                    0.128466466411,
                    0.132623130414,
                    0.142767575682,
                    0.124443427153,
                    0.211304286703
                  ],
                  "yaxis": "y"
                }
              ],
              "layout": {
                "coloraxis": {
                  "colorbar": {
                    "title": {
                      "text": "Cluster"
                    }
                  },
                  "colorscale": [
                    [
                      0,
                      "#440154"
                    ],
                    [
                      0.1111111111111111,
                      "#482878"
                    ],
                    [
                      0.2222222222222222,
                      "#3e4989"
                    ],
                    [
                      0.3333333333333333,
                      "#31688e"
                    ],
                    [
                      0.4444444444444444,
                      "#26828e"
                    ],
                    [
                      0.5555555555555556,
                      "#1f9e89"
                    ],
                    [
                      0.6666666666666666,
                      "#35b779"
                    ],
                    [
                      0.7777777777777778,
                      "#6ece58"
                    ],
                    [
                      0.8888888888888888,
                      "#b5de2b"
                    ],
                    [
                      1,
                      "#fde725"
                    ]
                  ],
                  "showscale": false
                },
                "legend": {
                  "title": {
                    "text": "Cluster"
                  },
                  "tracegroupgap": 0
                },
                "margin": {
                  "t": 60
                },
                "template": {
                  "data": {
                    "bar": [
                      {
                        "error_x": {
                          "color": "rgb(36,36,36)"
                        },
                        "error_y": {
                          "color": "rgb(36,36,36)"
                        },
                        "marker": {
                          "line": {
                            "color": "white",
                            "width": 0.5
                          },
                          "pattern": {
                            "fillmode": "overlay",
                            "size": 10,
                            "solidity": 0.2
                          }
                        },
                        "type": "bar"
                      }
                    ],
                    "barpolar": [
                      {
                        "marker": {
                          "line": {
                            "color": "white",
                            "width": 0.5
                          },
                          "pattern": {
                            "fillmode": "overlay",
                            "size": 10,
                            "solidity": 0.2
                          }
                        },
                        "type": "barpolar"
                      }
                    ],
                    "carpet": [
                      {
                        "aaxis": {
                          "endlinecolor": "rgb(36,36,36)",
                          "gridcolor": "white",
                          "linecolor": "white",
                          "minorgridcolor": "white",
                          "startlinecolor": "rgb(36,36,36)"
                        },
                        "baxis": {
                          "endlinecolor": "rgb(36,36,36)",
                          "gridcolor": "white",
                          "linecolor": "white",
                          "minorgridcolor": "white",
                          "startlinecolor": "rgb(36,36,36)"
                        },
                        "type": "carpet"
                      }
                    ],
                    "choropleth": [
                      {
                        "colorbar": {
                          "outlinewidth": 1,
                          "tickcolor": "rgb(36,36,36)",
                          "ticks": "outside"
                        },
                        "type": "choropleth"
                      }
                    ],
                    "contour": [
                      {
                        "colorbar": {
                          "outlinewidth": 1,
                          "tickcolor": "rgb(36,36,36)",
                          "ticks": "outside"
                        },
                        "colorscale": [
                          [
                            0,
                            "#440154"
                          ],
                          [
                            0.1111111111111111,
                            "#482878"
                          ],
                          [
                            0.2222222222222222,
                            "#3e4989"
                          ],
                          [
                            0.3333333333333333,
                            "#31688e"
                          ],
                          [
                            0.4444444444444444,
                            "#26828e"
                          ],
                          [
                            0.5555555555555556,
                            "#1f9e89"
                          ],
                          [
                            0.6666666666666666,
                            "#35b779"
                          ],
                          [
                            0.7777777777777778,
                            "#6ece58"
                          ],
                          [
                            0.8888888888888888,
                            "#b5de2b"
                          ],
                          [
                            1,
                            "#fde725"
                          ]
                        ],
                        "type": "contour"
                      }
                    ],
                    "contourcarpet": [
                      {
                        "colorbar": {
                          "outlinewidth": 1,
                          "tickcolor": "rgb(36,36,36)",
                          "ticks": "outside"
                        },
                        "type": "contourcarpet"
                      }
                    ],
                    "heatmap": [
                      {
                        "colorbar": {
                          "outlinewidth": 1,
                          "tickcolor": "rgb(36,36,36)",
                          "ticks": "outside"
                        },
                        "colorscale": [
                          [
                            0,
                            "#440154"
                          ],
                          [
                            0.1111111111111111,
                            "#482878"
                          ],
                          [
                            0.2222222222222222,
                            "#3e4989"
                          ],
                          [
                            0.3333333333333333,
                            "#31688e"
                          ],
                          [
                            0.4444444444444444,
                            "#26828e"
                          ],
                          [
                            0.5555555555555556,
                            "#1f9e89"
                          ],
                          [
                            0.6666666666666666,
                            "#35b779"
                          ],
                          [
                            0.7777777777777778,
                            "#6ece58"
                          ],
                          [
                            0.8888888888888888,
                            "#b5de2b"
                          ],
                          [
                            1,
                            "#fde725"
                          ]
                        ],
                        "type": "heatmap"
                      }
                    ],
                    "heatmapgl": [
                      {
                        "colorbar": {
                          "outlinewidth": 1,
                          "tickcolor": "rgb(36,36,36)",
                          "ticks": "outside"
                        },
                        "colorscale": [
                          [
                            0,
                            "#440154"
                          ],
                          [
                            0.1111111111111111,
                            "#482878"
                          ],
                          [
                            0.2222222222222222,
                            "#3e4989"
                          ],
                          [
                            0.3333333333333333,
                            "#31688e"
                          ],
                          [
                            0.4444444444444444,
                            "#26828e"
                          ],
                          [
                            0.5555555555555556,
                            "#1f9e89"
                          ],
                          [
                            0.6666666666666666,
                            "#35b779"
                          ],
                          [
                            0.7777777777777778,
                            "#6ece58"
                          ],
                          [
                            0.8888888888888888,
                            "#b5de2b"
                          ],
                          [
                            1,
                            "#fde725"
                          ]
                        ],
                        "type": "heatmapgl"
                      }
                    ],
                    "histogram": [
                      {
                        "marker": {
                          "line": {
                            "color": "white",
                            "width": 0.6
                          }
                        },
                        "type": "histogram"
                      }
                    ],
                    "histogram2d": [
                      {
                        "colorbar": {
                          "outlinewidth": 1,
                          "tickcolor": "rgb(36,36,36)",
                          "ticks": "outside"
                        },
                        "colorscale": [
                          [
                            0,
                            "#440154"
                          ],
                          [
                            0.1111111111111111,
                            "#482878"
                          ],
                          [
                            0.2222222222222222,
                            "#3e4989"
                          ],
                          [
                            0.3333333333333333,
                            "#31688e"
                          ],
                          [
                            0.4444444444444444,
                            "#26828e"
                          ],
                          [
                            0.5555555555555556,
                            "#1f9e89"
                          ],
                          [
                            0.6666666666666666,
                            "#35b779"
                          ],
                          [
                            0.7777777777777778,
                            "#6ece58"
                          ],
                          [
                            0.8888888888888888,
                            "#b5de2b"
                          ],
                          [
                            1,
                            "#fde725"
                          ]
                        ],
                        "type": "histogram2d"
                      }
                    ],
                    "histogram2dcontour": [
                      {
                        "colorbar": {
                          "outlinewidth": 1,
                          "tickcolor": "rgb(36,36,36)",
                          "ticks": "outside"
                        },
                        "colorscale": [
                          [
                            0,
                            "#440154"
                          ],
                          [
                            0.1111111111111111,
                            "#482878"
                          ],
                          [
                            0.2222222222222222,
                            "#3e4989"
                          ],
                          [
                            0.3333333333333333,
                            "#31688e"
                          ],
                          [
                            0.4444444444444444,
                            "#26828e"
                          ],
                          [
                            0.5555555555555556,
                            "#1f9e89"
                          ],
                          [
                            0.6666666666666666,
                            "#35b779"
                          ],
                          [
                            0.7777777777777778,
                            "#6ece58"
                          ],
                          [
                            0.8888888888888888,
                            "#b5de2b"
                          ],
                          [
                            1,
                            "#fde725"
                          ]
                        ],
                        "type": "histogram2dcontour"
                      }
                    ],
                    "mesh3d": [
                      {
                        "colorbar": {
                          "outlinewidth": 1,
                          "tickcolor": "rgb(36,36,36)",
                          "ticks": "outside"
                        },
                        "type": "mesh3d"
                      }
                    ],
                    "parcoords": [
                      {
                        "line": {
                          "colorbar": {
                            "outlinewidth": 1,
                            "tickcolor": "rgb(36,36,36)",
                            "ticks": "outside"
                          }
                        },
                        "type": "parcoords"
                      }
                    ],
                    "pie": [
                      {
                        "automargin": true,
                        "type": "pie"
                      }
                    ],
                    "scatter": [
                      {
                        "fillpattern": {
                          "fillmode": "overlay",
                          "size": 10,
                          "solidity": 0.2
                        },
                        "type": "scatter"
                      }
                    ],
                    "scatter3d": [
                      {
                        "line": {
                          "colorbar": {
                            "outlinewidth": 1,
                            "tickcolor": "rgb(36,36,36)",
                            "ticks": "outside"
                          }
                        },
                        "marker": {
                          "colorbar": {
                            "outlinewidth": 1,
                            "tickcolor": "rgb(36,36,36)",
                            "ticks": "outside"
                          }
                        },
                        "type": "scatter3d"
                      }
                    ],
                    "scattercarpet": [
                      {
                        "marker": {
                          "colorbar": {
                            "outlinewidth": 1,
                            "tickcolor": "rgb(36,36,36)",
                            "ticks": "outside"
                          }
                        },
                        "type": "scattercarpet"
                      }
                    ],
                    "scattergeo": [
                      {
                        "marker": {
                          "colorbar": {
                            "outlinewidth": 1,
                            "tickcolor": "rgb(36,36,36)",
                            "ticks": "outside"
                          }
                        },
                        "type": "scattergeo"
                      }
                    ],
                    "scattergl": [
                      {
                        "marker": {
                          "colorbar": {
                            "outlinewidth": 1,
                            "tickcolor": "rgb(36,36,36)",
                            "ticks": "outside"
                          }
                        },
                        "type": "scattergl"
                      }
                    ],
                    "scattermapbox": [
                      {
                        "marker": {
                          "colorbar": {
                            "outlinewidth": 1,
                            "tickcolor": "rgb(36,36,36)",
                            "ticks": "outside"
                          }
                        },
                        "type": "scattermapbox"
                      }
                    ],
                    "scatterpolar": [
                      {
                        "marker": {
                          "colorbar": {
                            "outlinewidth": 1,
                            "tickcolor": "rgb(36,36,36)",
                            "ticks": "outside"
                          }
                        },
                        "type": "scatterpolar"
                      }
                    ],
                    "scatterpolargl": [
                      {
                        "marker": {
                          "colorbar": {
                            "outlinewidth": 1,
                            "tickcolor": "rgb(36,36,36)",
                            "ticks": "outside"
                          }
                        },
                        "type": "scatterpolargl"
                      }
                    ],
                    "scatterternary": [
                      {
                        "marker": {
                          "colorbar": {
                            "outlinewidth": 1,
                            "tickcolor": "rgb(36,36,36)",
                            "ticks": "outside"
                          }
                        },
                        "type": "scatterternary"
                      }
                    ],
                    "surface": [
                      {
                        "colorbar": {
                          "outlinewidth": 1,
                          "tickcolor": "rgb(36,36,36)",
                          "ticks": "outside"
                        },
                        "colorscale": [
                          [
                            0,
                            "#440154"
                          ],
                          [
                            0.1111111111111111,
                            "#482878"
                          ],
                          [
                            0.2222222222222222,
                            "#3e4989"
                          ],
                          [
                            0.3333333333333333,
                            "#31688e"
                          ],
                          [
                            0.4444444444444444,
                            "#26828e"
                          ],
                          [
                            0.5555555555555556,
                            "#1f9e89"
                          ],
                          [
                            0.6666666666666666,
                            "#35b779"
                          ],
                          [
                            0.7777777777777778,
                            "#6ece58"
                          ],
                          [
                            0.8888888888888888,
                            "#b5de2b"
                          ],
                          [
                            1,
                            "#fde725"
                          ]
                        ],
                        "type": "surface"
                      }
                    ],
                    "table": [
                      {
                        "cells": {
                          "fill": {
                            "color": "rgb(237,237,237)"
                          },
                          "line": {
                            "color": "white"
                          }
                        },
                        "header": {
                          "fill": {
                            "color": "rgb(217,217,217)"
                          },
                          "line": {
                            "color": "white"
                          }
                        },
                        "type": "table"
                      }
                    ]
                  },
                  "layout": {
                    "annotationdefaults": {
                      "arrowhead": 0,
                      "arrowwidth": 1
                    },
                    "autotypenumbers": "strict",
                    "coloraxis": {
                      "colorbar": {
                        "outlinewidth": 1,
                        "tickcolor": "rgb(36,36,36)",
                        "ticks": "outside"
                      }
                    },
                    "colorscale": {
                      "diverging": [
                        [
                          0,
                          "rgb(103,0,31)"
                        ],
                        [
                          0.1,
                          "rgb(178,24,43)"
                        ],
                        [
                          0.2,
                          "rgb(214,96,77)"
                        ],
                        [
                          0.3,
                          "rgb(244,165,130)"
                        ],
                        [
                          0.4,
                          "rgb(253,219,199)"
                        ],
                        [
                          0.5,
                          "rgb(247,247,247)"
                        ],
                        [
                          0.6,
                          "rgb(209,229,240)"
                        ],
                        [
                          0.7,
                          "rgb(146,197,222)"
                        ],
                        [
                          0.8,
                          "rgb(67,147,195)"
                        ],
                        [
                          0.9,
                          "rgb(33,102,172)"
                        ],
                        [
                          1,
                          "rgb(5,48,97)"
                        ]
                      ],
                      "sequential": [
                        [
                          0,
                          "#440154"
                        ],
                        [
                          0.1111111111111111,
                          "#482878"
                        ],
                        [
                          0.2222222222222222,
                          "#3e4989"
                        ],
                        [
                          0.3333333333333333,
                          "#31688e"
                        ],
                        [
                          0.4444444444444444,
                          "#26828e"
                        ],
                        [
                          0.5555555555555556,
                          "#1f9e89"
                        ],
                        [
                          0.6666666666666666,
                          "#35b779"
                        ],
                        [
                          0.7777777777777778,
                          "#6ece58"
                        ],
                        [
                          0.8888888888888888,
                          "#b5de2b"
                        ],
                        [
                          1,
                          "#fde725"
                        ]
                      ],
                      "sequentialminus": [
                        [
                          0,
                          "#440154"
                        ],
                        [
                          0.1111111111111111,
                          "#482878"
                        ],
                        [
                          0.2222222222222222,
                          "#3e4989"
                        ],
                        [
                          0.3333333333333333,
                          "#31688e"
                        ],
                        [
                          0.4444444444444444,
                          "#26828e"
                        ],
                        [
                          0.5555555555555556,
                          "#1f9e89"
                        ],
                        [
                          0.6666666666666666,
                          "#35b779"
                        ],
                        [
                          0.7777777777777778,
                          "#6ece58"
                        ],
                        [
                          0.8888888888888888,
                          "#b5de2b"
                        ],
                        [
                          1,
                          "#fde725"
                        ]
                      ]
                    },
                    "colorway": [
                      "#1F77B4",
                      "#FF7F0E",
                      "#2CA02C",
                      "#D62728",
                      "#9467BD",
                      "#8C564B",
                      "#E377C2",
                      "#7F7F7F",
                      "#BCBD22",
                      "#17BECF"
                    ],
                    "font": {
                      "color": "rgb(36,36,36)"
                    },
                    "geo": {
                      "bgcolor": "white",
                      "lakecolor": "white",
                      "landcolor": "white",
                      "showlakes": true,
                      "showland": true,
                      "subunitcolor": "white"
                    },
                    "hoverlabel": {
                      "align": "left"
                    },
                    "hovermode": "closest",
                    "mapbox": {
                      "style": "light"
                    },
                    "paper_bgcolor": "white",
                    "plot_bgcolor": "white",
                    "polar": {
                      "angularaxis": {
                        "gridcolor": "rgb(232,232,232)",
                        "linecolor": "rgb(36,36,36)",
                        "showgrid": false,
                        "showline": true,
                        "ticks": "outside"
                      },
                      "bgcolor": "white",
                      "radialaxis": {
                        "gridcolor": "rgb(232,232,232)",
                        "linecolor": "rgb(36,36,36)",
                        "showgrid": false,
                        "showline": true,
                        "ticks": "outside"
                      }
                    },
                    "scene": {
                      "xaxis": {
                        "backgroundcolor": "white",
                        "gridcolor": "rgb(232,232,232)",
                        "gridwidth": 2,
                        "linecolor": "rgb(36,36,36)",
                        "showbackground": true,
                        "showgrid": false,
                        "showline": true,
                        "ticks": "outside",
                        "zeroline": false,
                        "zerolinecolor": "rgb(36,36,36)"
                      },
                      "yaxis": {
                        "backgroundcolor": "white",
                        "gridcolor": "rgb(232,232,232)",
                        "gridwidth": 2,
                        "linecolor": "rgb(36,36,36)",
                        "showbackground": true,
                        "showgrid": false,
                        "showline": true,
                        "ticks": "outside",
                        "zeroline": false,
                        "zerolinecolor": "rgb(36,36,36)"
                      },
                      "zaxis": {
                        "backgroundcolor": "white",
                        "gridcolor": "rgb(232,232,232)",
                        "gridwidth": 2,
                        "linecolor": "rgb(36,36,36)",
                        "showbackground": true,
                        "showgrid": false,
                        "showline": true,
                        "ticks": "outside",
                        "zeroline": false,
                        "zerolinecolor": "rgb(36,36,36)"
                      }
                    },
                    "shapedefaults": {
                      "fillcolor": "black",
                      "line": {
                        "width": 0
                      },
                      "opacity": 0.3
                    },
                    "ternary": {
                      "aaxis": {
                        "gridcolor": "rgb(232,232,232)",
                        "linecolor": "rgb(36,36,36)",
                        "showgrid": false,
                        "showline": true,
                        "ticks": "outside"
                      },
                      "baxis": {
                        "gridcolor": "rgb(232,232,232)",
                        "linecolor": "rgb(36,36,36)",
                        "showgrid": false,
                        "showline": true,
                        "ticks": "outside"
                      },
                      "bgcolor": "white",
                      "caxis": {
                        "gridcolor": "rgb(232,232,232)",
                        "linecolor": "rgb(36,36,36)",
                        "showgrid": false,
                        "showline": true,
                        "ticks": "outside"
                      }
                    },
                    "title": {
                      "x": 0.05
                    },
                    "xaxis": {
                      "automargin": true,
                      "gridcolor": "rgb(232,232,232)",
                      "linecolor": "rgb(36,36,36)",
                      "showgrid": false,
                      "showline": true,
                      "ticks": "outside",
                      "title": {
                        "standoff": 15
                      },
                      "zeroline": false,
                      "zerolinecolor": "rgb(36,36,36)"
                    },
                    "yaxis": {
                      "automargin": true,
                      "gridcolor": "rgb(232,232,232)",
                      "linecolor": "rgb(36,36,36)",
                      "showgrid": false,
                      "showline": true,
                      "ticks": "outside",
                      "title": {
                        "standoff": 15
                      },
                      "zeroline": false,
                      "zerolinecolor": "rgb(36,36,36)"
                    }
                  }
                },
                "title": {
                  "text": "K-Means Clustering with PCA Components"
                },
                "xaxis": {
                  "anchor": "y",
                  "domain": [
                    0,
                    1
                  ],
                  "title": {
                    "text": "PC1"
                  }
                },
                "yaxis": {
                  "anchor": "x",
                  "domain": [
                    0,
                    1
                  ],
                  "title": {
                    "text": "PC2"
                  }
                }
              }
            }
          },
          "metadata": {},
          "output_type": "display_data"
        }
      ],
      "source": [
        "import plotly.express as px\n",
        "\n",
        "# Assuming df_clustered is your DataFrame that includes PCA components and cluster assignments\n",
        "# Replace 'PC1' and 'PC2' with the names of your principal component columns\n",
        "# Replace 'Cluster' with the name of your cluster label column\n",
        "# Replace 'country' with the name of the column you want to show on hover\n",
        "\n",
        "fig = px.scatter(df_clustered, x='Schizophrenia (%)', y='Eating disorders (%)', color='Cluster', hover_data=['Economy'], template='simple_white')\n",
        "## Remove the colorbar\n",
        "fig.update(layout_coloraxis_showscale=False)\n",
        "# Make the points larger\n",
        "fig.update_traces(marker=dict(size=12),selector=dict(mode='markers'))\n",
        "# Update layout if necessary\n",
        "fig.update_layout(\n",
        "    title='K-Means Clustering with PCA Components',\n",
        "    xaxis_title='PC1',\n",
        "    yaxis_title='PC2',\n",
        "    legend_title='Cluster'\n",
        ")\n",
        "\n",
        "fig.show()"
      ]
    },
    {
      "cell_type": "markdown",
      "metadata": {},
      "source": [
        "## Results\n",
        "ALl clustering analysis methods. They all sugested that the data can be clustered into 2 groups is the best after the parameter tuning,except for the elbow method in K-means clustering, which suggested that the data can be clustered into 5 groups is the best. \n",
        "\n",
        "Using unsupervised learning methods(clustering), we can see the underlying information is discovered from the mental health data, whch is the unexpected groupings (cluster is 2)\n",
        "\n",
        "When clustering algorithms with K-Means, DBSCAN, or Hierarchical Clustering consistently yield a certain number of clusters that doesn't match the expected number based on known labels (like my four income groups), it suggests a few possibilities: my data naturally falls into two distinct group, maybe there is a inherent data distribution, These groups might not align with predefined income categories, suggesting that the selected features do not differentiate the income groups as clearly as expected.\n",
        "\n",
        "\n",
        "\n",
        "## Conclusions:\n",
        "In my investigation into the patterns and structures within our dataset, we applied various clustering techniques to uncover hidden groupings that may reflect real-world distinctions among the subjects. The essence of our findings reveals that the complexities of mental health indicators and educational outcomes do not necessarily align neatly with economic categories such as income levels.\n",
        "\n",
        "Unexpectedly, rather than observing four distinct groupings corresponding to high, upper-middle, lower-middle, and low income levels, our analysis consistently highlighted two predominant clusters. This suggests that the features we examined—ranging from schizophrenia to depression rates, and the average learning adjustments in schools—might interplay in ways that transcend traditional economic divisions.\n",
        "\n",
        "This has profound implications for policymakers, educators, and healthcare providers. It suggests that strategies aimed at addressing mental health and education should not be overly tailored to economic status alone, as these issues are not confined to any one financial demographic. Instead, more universal approaches that cross these boundaries may be necessary to effectively address the needs highlighted by our findings.\n",
        "\n",
        "Moreover, my analysis serves as a reminder of the complex human stories behind the data. Numbers and categories can only tell us so much; the lived experiences of individuals often defy simple categorization. This study underlines the importance of considering the full tapestry of human experience when crafting policies and interventions aimed at improving mental health and educational outcomes.\n",
        "\n",
        "In conclusion, my exploration into the dataset has illuminated the intricate relationship between mental health, education, and income, underscoring the need for broad-spectrum solutions that are sensitive to the nuanced ways these domains interact. These insights can guide us toward more inclusive and effective approaches to supporting well-being and educational achievement across all economic strata.\n"
      ]
    }
  ],
  "metadata": {
    "kernelspec": {
      "display_name": "Python 3 (ipykernel)",
      "language": "python",
      "name": "python3"
    },
    "language_info": {
      "codemirror_mode": {
        "name": "ipython",
        "version": 3
      },
      "file_extension": ".py",
      "mimetype": "text/x-python",
      "name": "python",
      "nbconvert_exporter": "python",
      "pygments_lexer": "ipython3",
      "version": "3.11.4"
    }
  },
  "nbformat": 4,
  "nbformat_minor": 4
}
