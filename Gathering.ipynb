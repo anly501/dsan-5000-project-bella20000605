{
  "cells": [
    {
      "cell_type": "raw",
      "metadata": {},
      "source": [
        "---\n",
        "title: \"Data Gathering\"\n",
        "---"
      ]
    },
    {
      "cell_type": "markdown",
      "metadata": {
        "vscode": {
          "languageId": "python"
        }
      },
      "source": [
        "## Download Data\n",
        "\n",
        "### Mental Health Data\n",
        "\n",
        "### Discription\n",
        "\n",
        "Mental health Depression disorder Data. What are mental health disorder types?\\\n",
        "How many people suffer these disorder types?\\\n",
        "How many people in your country have depression?\\\n",
        "Is depression is higher in men or women?\\\n",
        "Does depression leads to suicide? What percentage?\\\n",
        "Which age group has more depression?\n",
        "\n",
        "[download link](https://data.world/vizzup/mental-health-depression-disorder-data)\n",
        "\n",
        "![](images/mental-2.png){width=\"993\"}\n",
        "\n",
        "### Eating Disorder Data {style=\"white\"}\n",
        "\n",
        "### Description\n",
        "\n",
        "Share of population with eating disorders. This is estimated as the total number of cases with eating disorders relative to the population of a country.\\\n",
        "This indicator only includes anorexia nervosa and bulimia nervosa (i.e. it does not include binge eating disorder and other specified feeding or eating disorder (OSFED)).\n",
        "\n",
        "[download link](https://ourworldindata.org/grapher/eating-disorders-prevalence-males-vs-females)\n",
        "\n",
        "![](images/Screenshot%202023-10-12%20at%201.14.57%20AM-2.png)\n",
        "\n",
        "### Discomfort Speaking to others Data\n",
        "\n",
        "### Discription\n",
        "\n",
        "Respondents were asked how comfortable a local person would feel speaking about anxiety or depression with someone they know. This shows the share that gave each response.\n",
        "\n",
        "<br> [download link](https://datacatalog.worldbank.org/search/dataset/0037712/World-Development-Indicators)\n",
        "\n",
        "![](images/Screenshot%202023-10-12%20at%201.36.05%20AM.png)\n",
        "\n",
        "### Countries in Continent Data\n",
        "\n",
        "### Discription\n",
        "\n",
        "The relationship between countries and their continents.<br> [download link](https://ourworldindata.org/grapher/perceived-comfort-speaking-anxiety-depression)\n",
        "\n",
        "![](images/Screenshot%202023-10-12%20at%201.36.54%20AM.png){width=\"499\"}\n",
        "\n",
        "## API\n",
        "\n",
        "### Description\n",
        "\n",
        "The World Development Indicators (WDI) is the primary World Bank collection of development indicators, compiled from officially-recognized international sources. It presents the most current and accurate global development data available, and includes national, regional and global estimates.\n",
        "\n",
        "| Label                         | Value               |\n",
        "|:------------------------------|:--------------------|\n",
        "| Fiscal Yeay                   | FY21                |\n",
        "| Publication Date              | (July 2020)         |\n",
        "| Low Income Threshold          | \\$1,035 or less     |\n",
        "| Lower Middle Income Range     | \\$1,036 to \\$4,045  |\n",
        "| Upper Middle Income Range     | \\$4,046 to \\$12,535 |\n",
        "| High Income Threshold         | \\$12,536 or more    |\n",
        "| Number of economies           | 189                 |\n",
        "| GNI Year                      | 2019                |\n",
        "| Term of Income Classification | until 1 July 2021   |\n",
        "\n",
        "[API link](https://ourworldindata.org/grapher/perceived-comfort-speaking-anxiety-depression)\n",
        "\n",
        "### Python Api Code\n"
      ]
    },
    {
      "cell_type": "markdown",
      "metadata": {},
      "source": [
        "\n",
        "``` python\n",
        "import requests\n",
        "import pandas as pd\n",
        "import json\n",
        "import csv\n",
        "# Define the API endpoint URL\n",
        "url = \"https://datacatalogapi.worldbank.org/ddhxext/ResourceFileData?resource_unique_id=DR0090755&version_id=2023-09-27T16:44:25.8023254Z\"\n",
        "# Make the GET request\n",
        "response = requests.get(url)\n",
        "# Check the response status\n",
        "if response.status_code == 200:\n",
        "    data = response.json()  # If the response contains JSON data, it can be accessed using the .json() method\n",
        "else:\n",
        "    print(\"Failed to retrieve data. Status code:\", response.status_code)\n",
        "# Extract column names from the \"MetaData\" section\n",
        "columns = [item['ColumnName'] for item in data[\"MetaData\"]]\n",
        "# Extract data from the \"Details\" section\n",
        "details = data[\"Details\"]\n",
        "rows = []\n",
        "for chunk in details:\n",
        "    row=[]\n",
        "    for key,value in chunk.items():\n",
        "    # Check if the value is None and replace it with an empty string if needed\n",
        "        value = value if value is not None else ''\n",
        "        row.append(value)\n",
        "    rows.append(row)\n",
        "# Write data to a CSV file\n",
        "with open('./Part2/Code/api_python.csv', 'w', newline='') as csvfile:\n",
        "    csv_writer = csv.writer(csvfile)\n",
        "    # Write the header row\n",
        "    csv_writer.writerow(columns)\n",
        "    # Write the data rows\n",
        "    csv_writer.writerows(rows)\n",
        "print(\"CSV file 'api_python.csv' has been created.\")\n"
      ]
    },
    {
      "cell_type": "markdown",
      "metadata": {},
      "source": [
        "```\n",
        "\n",
        "### R Api Code"
      ]
    },
    {
      "cell_type": "code",
      "execution_count": null,
      "metadata": {
        "vscode": {
          "languageId": "r"
        }
      },
      "outputs": [],
      "source": [
        "library(httr)\n",
        "library(jsonlite)\n",
        "url <- \"https://datacatalogapi.worldbank.org/ddhxext/ResourceFileData?resource_unique_id=DR0090755&version_id=2023-09-27T16:44:25.8023254Z\"\n",
        "# Make the GET request\n",
        "response <- GET(url)\n",
        "response.text <- content(response, \"text\")\n",
        "data <- fromJSON(response.text)\n",
        "details <- data$Details\n",
        "# To write this data to a CSV file\n",
        "write.csv(details, file = './api_r.csv', row.names = FALSE)"
      ]
    }
  ],
  "metadata": {
    "kernelspec": {
      "display_name": "Python 3 (ipykernel)",
      "language": "python",
      "name": "python3"
    }
  },
  "nbformat": 4,
  "nbformat_minor": 4
}
