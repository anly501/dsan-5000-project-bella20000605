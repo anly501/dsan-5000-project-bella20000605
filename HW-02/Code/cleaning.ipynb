{
 "cells": [
  {
   "cell_type": "code",
   "execution_count": 369,
   "metadata": {},
   "outputs": [],
   "source": [
    "#https://pdas.samhsa.gov/saes/substate#\n",
    "\n",
    "import pandas as pd\n",
    "import numpy as np\n",
    "import matplotlib.pyplot as plt\n",
    "import glob\n",
    "from sklearn.feature_extraction.text import CountVectorizer\n",
    "\n"
   ]
  },
  {
   "cell_type": "markdown",
   "metadata": {},
   "source": [
    "# Load data"
   ]
  },
  {
   "cell_type": "code",
   "execution_count": 370,
   "metadata": {},
   "outputs": [
    {
     "name": "stdout",
     "output_type": "stream",
     "text": [
      "0 ../Data/education.csv\n",
      "1 ../Data/Countries_Continents.csv\n",
      "2 ../Data/age_when_first_had_anxiety_depression.csv\n",
      "3 ../Data/all_mental_health_symptoms.csv\n",
      "4 ../Data/GDP_per_captita.csv\n",
      "5 ../Data/discomfort_speaking_anxiety_depression_2020.csv\n",
      "6 ../Data/eating_disorders_prevalence_males_vs_females.csv\n",
      "7 ../Data/GDP.csv\n",
      "8 ../Data/Income_group.xlsx\n",
      "9 ../Data/mental_health.xlsx\n"
     ]
    }
   ],
   "source": [
    "\n",
    "#cd HW-02\n",
    "#load data from csv file\n",
    "all_data_frames=glob.glob(\"../Data/*.csv\")+glob.glob(\"../Data/*.xlsx\")\n",
    "for fname_index, fname in enumerate(all_data_frames):\n",
    "    print(fname_index, fname)\n",
    "    \n",
    "df_GDP = pd.read_csv(\"../Data/GDP.csv\") \n",
    "df_income_group = pd.read_excel(\"../Data/Income_group.xlsx\")\n",
    "df_Countries_Continents = pd.read_csv(\"../Data/Countries_Continents.csv\")\n",
    "df_education = pd.read_csv(\"../Data/education.csv\")\n",
    "df_discomfort_speaking_anxiety_depression_2020 = pd.read_csv(\"../Data/discomfort_speaking_anxiety_depression_2020.csv\")\n",
    "df_eating_disorder = pd.read_csv(\"../Data/eating_disorders_prevalence_males_vs_females.csv\")\n",
    "df_first_anxiety_or_depression = pd.read_csv(\"../Data/age_when_first_had_anxiety_depression.csv\")\n",
    "\n"
   ]
  },
  {
   "cell_type": "markdown",
   "metadata": {},
   "source": [
    "# clean data \n",
    "### Eating_disorders"
   ]
  },
  {
   "cell_type": "code",
   "execution_count": 371,
   "metadata": {},
   "outputs": [
    {
     "name": "stdout",
     "output_type": "stream",
     "text": [
      "Before :          Entity      Code  Year  Eating_disorders_Male  \\\n",
      "0     Abkhazia  OWID_ABK  2015                    NaN   \n",
      "1  Afghanistan       AFG  1990               0.088487   \n",
      "2  Afghanistan       AFG  1991               0.086048   \n",
      "3  Afghanistan       AFG  1992               0.083625   \n",
      "4  Afghanistan       AFG  1993               0.081628   \n",
      "\n",
      "   Eating_disorders_Female  Population Continent  \n",
      "0                      NaN         NaN      Asia  \n",
      "1                 0.161867  10694804.0       NaN  \n",
      "2                 0.156910  10745168.0       NaN  \n",
      "3                 0.152412  12057436.0       NaN  \n",
      "4                 0.147938  14003764.0       NaN  \n",
      "After:         Economy Code  Year  Eating_disorders_Male  Eating_disorders_Female  \\\n",
      "1  Afghanistan  AFG  1990               0.088487                 0.161867   \n",
      "2  Afghanistan  AFG  1991               0.086048                 0.156910   \n",
      "3  Afghanistan  AFG  1992               0.083625                 0.152412   \n",
      "4  Afghanistan  AFG  1993               0.081628                 0.147938   \n",
      "5  Afghanistan  AFG  1994               0.079439                 0.143980   \n",
      "\n",
      "   All_gender  \n",
      "1    0.125177  \n",
      "2    0.121479  \n",
      "3    0.118018  \n",
      "4    0.114783  \n",
      "5    0.111710  \n"
     ]
    }
   ],
   "source": [
    "#A.clean the data named eating_disorders\n",
    "# show all the columns of the dataframe\n",
    "print('Before : ',df_eating_disorder.head())\n",
    "# print(df_eating_disorder.head())\n",
    "# drop the columns Continent and Population because they are meaningless to the analysis\n",
    "df_eating_disorder = df_eating_disorder.drop(columns=['Continent','Population'])\n",
    "# print(df_eating_disorder.shape)\n",
    "# only keep the rows of the dataframe when the column 'Year' is between 1990-2021\n",
    "# eating_disorder_df = eating_disorder_df.loc[eating_disorder_df['Year'] == range(1990,2022)]\n",
    "df_eating_disorder = df_eating_disorder[df_eating_disorder['Year'].isin(range(1990,2022))]\n",
    "rename_map={\n",
    "    'Entity':'Economy',\n",
    "    'Year':'Year',\n",
    "}\n",
    "df_eating_disorder.rename(columns=rename_map, inplace=True)\n",
    "#drop the rows when the column named Eating_disorders_Male is null in the dataframe df_eating_disorder\n",
    "df_eating_disorder= df_eating_disorder.dropna(subset=['Eating_disorders_Male'])\n",
    "\n",
    "#caculate the mean of the column Male and Female of the dataframe and save it to a new column named All_gender\n",
    "df_eating_disorder['All_gender'] = df_eating_disorder[['Eating_disorders_Male', 'Eating_disorders_Female']].mean(axis=1)\n",
    "print('After: ',df_eating_disorder.head())\n",
    "#save the dataframe to csv file\n",
    "df_eating_disorder.to_csv(\"../Cleaned_Data/eating_disorder_male_female.csv\", index=False)\n"
   ]
  },
  {
   "cell_type": "markdown",
   "metadata": {},
   "source": [
    "### Discomfort_speaking_anxiety_depression_2020"
   ]
  },
  {
   "cell_type": "code",
   "execution_count": 372,
   "metadata": {},
   "outputs": [
    {
     "name": "stdout",
     "output_type": "stream",
     "text": [
      "Before :       Economy Code  Year  \\\n",
      "0    Albania  ALB  2020   \n",
      "1    Algeria  DZA  2020   \n",
      "2  Argentina  ARG  2020   \n",
      "3       Asia  NaN  2020   \n",
      "4  Australia  AUS  2020   \n",
      "\n",
      "   not_at_all_comfortable_speaking_anxiety_or_depression_percent  \n",
      "0                                          27.573915              \n",
      "1                                          11.403895              \n",
      "2                                          26.333920              \n",
      "3                                          26.522500              \n",
      "4                                          30.768505              \n",
      "After       Economy Code  Year  \\\n",
      "0    Albania  ALB  2020   \n",
      "1    Algeria  DZA  2020   \n",
      "2  Argentina  ARG  2020   \n",
      "3       Asia  NaN  2020   \n",
      "4  Australia  AUS  2020   \n",
      "\n",
      "   not_at_all_comfortable_speaking_anxiety_or_depression_percent  \n",
      "0                                          27.573915              \n",
      "1                                          11.403895              \n",
      "2                                          26.333920              \n",
      "3                                          26.522500              \n",
      "4                                          30.768505              \n"
     ]
    }
   ],
   "source": [
    "#B.clean the data named discomfort_speaking_anxiety_depression_2020\n",
    "print('Before : ',df_discomfort_speaking_anxiety_depression_2020.head())\n",
    "df_discomfort_speaking_anxiety_depression_2020 = pd.read_csv(\"../Data/discomfort_speaking_anxiety_depression_2020.csv\")\n",
    "#rename the column 'Entity' to 'Country' and 'Share - Question: mh5 - Someone local comfortable speaking about anxiety/depression with someone they know - Answer: Not at all comfortable - Gender: all - Age_group: all' to 'Not_Comfortable'\n",
    "df_discomfort_speaking_anxiety_depression_2020.rename(columns={'Entity':'Economy'}, inplace=True)\n",
    "print('After ', df_discomfort_speaking_anxiety_depression_2020.head())\n",
    "df_discomfort_speaking_anxiety_depression_2020.to_csv(\"../Data/discomfort_speaking_anxiety_depression_2020.csv\", index=False)\n"
   ]
  },
  {
   "cell_type": "markdown",
   "metadata": {},
   "source": [
    "### GDP"
   ]
  },
  {
   "cell_type": "code",
   "execution_count": 373,
   "metadata": {},
   "outputs": [
    {
     "name": "stdout",
     "output_type": "stream",
     "text": [
      "Before:     USA    1  Unnamed: 2   United States   25,462,700   Unnamed: 5\n",
      "0  CHN  2.0         NaN           China   17,963,171          NaN\n",
      "1  JPN  3.0         NaN           Japan    4,231,141          NaN\n",
      "2  DEU  4.0         NaN         Germany    4,072,192          NaN\n",
      "3  IND  5.0         NaN           India    3,385,090          NaN\n",
      "4  GBR  6.0         NaN  United Kingdom    3,070,668          NaN\n",
      "After:    Code  Ranking         Economy   GDP(2022)\n",
      "0  CHN      2.0           China  17963171.0\n",
      "1  JPN      3.0           Japan   4231141.0\n",
      "2  DEU      4.0         Germany   4072192.0\n",
      "3  IND      5.0           India   3385090.0\n",
      "4  GBR      6.0  United Kingdom   3070668.0\n"
     ]
    }
   ],
   "source": [
    "#C.clean the data named GDP\n",
    "#add column names to the dataframe df_GDP\n",
    "print('Before: ',df_GDP.head())\n",
    "df_GDP.columns=['Code', 'Ranking','unnamed:2','Economy','GDP(2022)','unnamed:5']\n",
    "df_GDP=df_GDP.drop(columns=['unnamed:2','unnamed:5'])\n",
    "#check the data type of the column GDP\n",
    "# print(df_GDP.dtypes)\n",
    "#convert the column GDP to numeric type\n",
    "df_GDP['GDP(2022)']=df_GDP['GDP(2022)'].str.replace(',','')\n",
    "#convert the column GDP from object type to numeric type\n",
    "df_GDP['GDP(2022)']=pd.to_numeric(df_GDP['GDP(2022)'],errors='coerce')\n",
    "print('After: ',df_GDP.head())\n",
    "df_GDP.to_csv(\"../Cleaned_Data/GDP.csv\", index=False)\n"
   ]
  },
  {
   "cell_type": "markdown",
   "metadata": {},
   "source": [
    "### Countries_Continents"
   ]
  },
  {
   "cell_type": "code",
   "execution_count": 374,
   "metadata": {},
   "outputs": [
    {
     "name": "stdout",
     "output_type": "stream",
     "text": [
      "Before:    Continent   Country\n",
      "0    Africa   Algeria\n",
      "1    Africa    Angola\n",
      "2    Africa     Benin\n",
      "3    Africa  Botswana\n",
      "4    Africa   Burkina\n",
      "After:    Continent   Economy\n",
      "0    Africa   Algeria\n",
      "1    Africa    Angola\n",
      "2    Africa     Benin\n",
      "3    Africa  Botswana\n",
      "4    Africa   Burkina\n"
     ]
    }
   ],
   "source": [
    "#D.clean the data named Countries_Continents\n",
    "#rename the column Country to Economy\n",
    "print('Before: ',df_Countries_Continents.head())\n",
    "df_Countries_Continents.rename(columns={'Country':'Economy'},inplace=True)\n",
    "print('After: ',df_Countries_Continents.head())\n",
    "df_Countries_Continents.to_csv(\"../Cleaned_Data/Countries_Continents.csv\", index=False)\n"
   ]
  },
  {
   "cell_type": "markdown",
   "metadata": {},
   "source": [
    "### Education"
   ]
  },
  {
   "cell_type": "code",
   "execution_count": 375,
   "metadata": {},
   "outputs": [
    {
     "name": "stdout",
     "output_type": "stream",
     "text": [
      "Before:          Entity Code  Year  Learning-Adjusted Years of School\n",
      "0  Afghanistan  AFG  2017                           4.870000\n",
      "1  Afghanistan  AFG  2018                           4.949788\n",
      "2  Afghanistan  AFG  2020                           5.052838\n",
      "3       Africa  NaN  2017                           4.931378\n",
      "4       Africa  NaN  2018                           5.123904\n",
      "After:          Economy Code  Year  Learning-Adjusted Years of School  \\\n",
      "0   Afghanistan  AFG  2017                           4.870000   \n",
      "3        Africa  NaN  2017                           4.931378   \n",
      "6       Albania  ALB  2010                           7.382478   \n",
      "10      Algeria  DZA  2010                           7.202200   \n",
      "14       Angola  AGO  2017                           4.110000   \n",
      "\n",
      "    average_learning_Adjusted_of_school  \n",
      "0                              4.957542  \n",
      "3                              5.058634  \n",
      "6                              8.526723  \n",
      "10                             7.045445  \n",
      "14                             4.193318  \n"
     ]
    }
   ],
   "source": [
    "#E.clean the data named education\n",
    "print('Before: ',df_education.head())\n",
    "#create a new column named 'average_learning_Adjusted_of_school' to calculate the average of the columns 'Average years of schooling' of each Entity\n",
    "df_education['average_learning_Adjusted_of_school'] = df_education.groupby('Entity')['Learning-Adjusted Years of School'].transform('mean')\n",
    "# This method keeps the first occurrence of each entity and drops the subsequent duplicates.\n",
    "df_education = df_education.drop_duplicates(subset='Entity', keep='first')\n",
    "# rename the column entity to Economy\n",
    "df_education.rename(columns={'Entity':'Economy'},inplace=True)\n",
    "print('After: ',df_education.head())\n",
    "df_education.to_csv(\"../Cleaned_Data/education.csv\", index=False)"
   ]
  },
  {
   "cell_type": "markdown",
   "metadata": {},
   "source": [
    "### Age_when_first_anxiety_depression"
   ]
  },
  {
   "cell_type": "code",
   "execution_count": 376,
   "metadata": {},
   "outputs": [
    {
     "name": "stdout",
     "output_type": "stream",
     "text": [
      "Before:                            Entity Code  Year  Ages <13  Ages_13_19  Ages_20_29  \\\n",
      "0                         Africa  NaN  2020  1.271836   14.229228   22.264650   \n",
      "1                           Asia  NaN  2020  7.795371    9.628078   23.403633   \n",
      "2                         Europe  NaN  2020  9.083381   22.210781   22.034777   \n",
      "3          High-income countries  NaN  2020  2.473921   24.484507   10.832585   \n",
      "4  Lower-middle-income countries  NaN  2020  8.800553    8.485406   26.288944   \n",
      "\n",
      "   Ages_30_39   Ages ≥40  Dont_know/Refused  \n",
      "0   16.803090   2.706476          42.724724  \n",
      "1   12.663021   9.983976          36.525925  \n",
      "2    7.628320  24.531280          14.511458  \n",
      "3   16.975899  16.115680          29.117413  \n",
      "4    8.428943   7.348721          40.647434  \n",
      "After:                            Entity       Age  Percentage\n",
      "0                         Africa  Ages <13    1.271836\n",
      "1                           Asia  Ages <13    7.795371\n",
      "2                         Europe  Ages <13    9.083381\n",
      "3          High-income countries  Ages <13    2.473921\n",
      "4  Lower-middle-income countries  Ages <13    8.800553\n"
     ]
    }
   ],
   "source": [
    "#G.clean the data named age_when_first_anxiety_depression.csv\n",
    "print('Before: ',df_first_anxiety_or_depression.head())\n",
    "df_first_anxiety_or_depression=df_first_anxiety_or_depression.drop(columns=['Code'])\n",
    "# print(df_first_anxiety_or_depression.columns)\n",
    "#melt the dataframe\n",
    "df_first_anxiety_or_depression=pd.melt(df_first_anxiety_or_depression, id_vars=['Entity'], value_vars=['Ages <13','Ages_13_19','Ages_20_29','Ages_30_39','Ages ≥40','Dont_know/Refused'], var_name='Age', value_name='Percentage')\n",
    "print('After: ',df_first_anxiety_or_depression.head())\n",
    "df_first_anxiety_or_depression.to_csv(\"../Cleaned_Data/age_when_first_anxiety_or_depression.csv\", index=False)\n",
    "\n",
    "# # Sample dataframe\n",
    "# df = pd.DataFrame({\n",
    "#     'A': ['a1', 'a2', 'a3'],\n",
    "#     'B': [1, 2, 3],\n",
    "#     'C': [4, 5, 6],\n",
    "#     'D': [7, 8, 9]\n",
    "# })\n",
    "\n",
    "# print(\"Original DataFrame:\")\n",
    "# print(df)\n",
    "\n",
    "# # Use melt to transform the dataframe\n",
    "# melted_df = pd.melt(df, id_vars=['A'], value_vars=['B', 'C', 'D'], var_name='Variable', value_name='Value')\n",
    "\n",
    "# print(\"\\nMelted DataFrame:\")\n",
    "# print(melted_df)\n"
   ]
  },
  {
   "cell_type": "markdown",
   "metadata": {},
   "source": [
    "### GDP_per_capita"
   ]
  },
  {
   "cell_type": "code",
   "execution_count": 377,
   "metadata": {},
   "outputs": [
    {
     "name": "stdout",
     "output_type": "stream",
     "text": [
      "Before:    GDP per capita, current prices(U.S. dollars per capita)      1980      1981  \\\n",
      "0                                        Afghanistan        no data   no data   \n",
      "1                                            Albania        728.359   817.734   \n",
      "2                                            Algeria       2268.607  2305.505   \n",
      "3                                            Andorra        no data   no data   \n",
      "4                                             Angola        802.627   731.427   \n",
      "\n",
      "       1982      1983      1984      1985      1986      1987      1988  ...  \\\n",
      "0   no data   no data   no data   no data   no data   no data   no data  ...   \n",
      "1   824.542   815.529   788.332   788.801   855.724   832.245   805.046  ...   \n",
      "2  2254.328  2316.679  2432.717  2753.697  2698.915  2705.111  2143.742  ...   \n",
      "3   no data   no data   no data   no data   no data   no data   no data  ...   \n",
      "4   712.576   723.654   747.325   817.068   743.735   828.958   875.526  ...   \n",
      "\n",
      "        2019       2020       2021       2022       2023       2024  \\\n",
      "0    586.204    611.268    443.385    no data    no data    no data   \n",
      "1   5345.058   5278.986   6259.762   6657.637    8057.49   8877.337   \n",
      "2   3953.402   3321.601   3659.709    4306.82   4874.706    5130.36   \n",
      "3  40688.491  36973.845  41806.876  41084.874  44107.317  45642.103   \n",
      "4   2612.246   1709.283   2169.648   3438.147   2550.001   2452.737   \n",
      "\n",
      "        2025       2026       2027       2028  \n",
      "0    no data    no data    no data    no data  \n",
      "1   9280.572   9818.569   10470.18  11187.728  \n",
      "2   5243.056   5335.671   5355.284    5365.19  \n",
      "3  46215.307  46546.578  46713.341  46920.949  \n",
      "4   2483.027    2507.49   2570.826   2622.394  \n",
      "\n",
      "[5 rows x 50 columns]\n",
      "After:         Economy  Year GDP_per_capita\n",
      "0  Afghanistan  1990        no data\n",
      "1      Albania  1990        675.736\n",
      "2      Algeria  1990       2473.512\n",
      "3      Andorra  1990        no data\n",
      "4       Angola  1990       1062.788\n"
     ]
    }
   ],
   "source": [
    "#H.cleaning GDP_per_capita.csv\n",
    "df_gdp_per_captita=pd.read_csv('../Data/GDP_per_captita.csv')\n",
    "print('Before: ',df_gdp_per_captita.head())\n",
    "#make a new dataframe with the column from 1990 to 2017\n",
    "df_gdp_per_captita_subset=df_gdp_per_captita[['GDP per capita, current prices(U.S. dollars per capita)','1990','1991','1992','1993','1994','1995','1996','1997','1998','1999', \n",
    "'2000','2001','2002','2003','2004','2005','2006','2007','2008','2009',  \n",
    "'2010','2011','2012','2013','2014','2015','2016','2017']]\n",
    "df_gdp_per_captita_subset=df_gdp_per_captita_subset.rename(columns={'GDP per capita, current prices(U.S. dollars per capita)':'Economy'})\n",
    "#melt the dataframe\n",
    "df_gdp_per_captita_subset=pd.melt(df_gdp_per_captita_subset, id_vars=['Economy'], value_vars=['1990','1991','1992','1993','1994','1995','1996','1997','1998','1999',    \n",
    "'2000','2001','2002','2003','2004','2005','2006','2007','2008','2009',\n",
    "'2010','2011','2012','2013','2014','2015','2016','2017'], var_name='Year', value_name='GDP_per_capita')\n",
    "print('After: ',df_gdp_per_captita_subset.head())\n",
    "# print the data type of the column GDP_per_capita\n",
    "# print(df_gdp_per_captita_subset.dtypes)\n",
    "#convert the column GDP_per_capita and Year from object type to numeric type\n",
    "df_gdp_per_captita_subset['GDP_per_capita']=pd.to_numeric(df_gdp_per_captita_subset['GDP_per_capita'],errors='coerce')\n",
    "df_gdp_per_captita_subset['Year']=pd.to_numeric(df_gdp_per_captita_subset['Year'],errors='coerce')\n",
    "# df_gdp_per_captita_subset.to_csv('../Cleaned_Data/GDP_percaptita.csv',index=False)"
   ]
  },
  {
   "cell_type": "markdown",
   "metadata": {},
   "source": [
    "### Mental_health"
   ]
  },
  {
   "cell_type": "code",
   "execution_count": 378,
   "metadata": {},
   "outputs": [
    {
     "name": "stdout",
     "output_type": "stream",
     "text": [
      "        Entity Code  Year  Schizophrenia (%)  Bipolar disorder (%)  \\\n",
      "0  Afghanistan  AFG  1990           0.160560              0.697779   \n",
      "1  Afghanistan  AFG  1991           0.160312              0.697961   \n",
      "2  Afghanistan  AFG  1992           0.160135              0.698107   \n",
      "3  Afghanistan  AFG  1993           0.160037              0.698257   \n",
      "4  Afghanistan  AFG  1994           0.160022              0.698469   \n",
      "\n",
      "   Eating disorders (%)  Anxiety disorders (%)  Drug use disorders (%)  \\\n",
      "0              0.101855               4.828830                1.677082   \n",
      "1              0.099313               4.829740                1.684746   \n",
      "2              0.096692               4.831108                1.694334   \n",
      "3              0.094336               4.830864                1.705320   \n",
      "4              0.092439               4.829423                1.716069   \n",
      "\n",
      "   Depression (%)  Alcohol use disorders (%)  \n",
      "0        4.071831                   0.672404  \n",
      "1        4.079531                   0.671768  \n",
      "2        4.088358                   0.670644  \n",
      "3        4.096190                   0.669738  \n",
      "4        4.099582                   0.669260  \n",
      "       Economy Code  Year  Schizophrenia (%)  Bipolar disorder (%)  \\\n",
      "0  Afghanistan  AFG  1990           0.160560              0.697779   \n",
      "1  Afghanistan  AFG  1991           0.160312              0.697961   \n",
      "2  Afghanistan  AFG  1992           0.160135              0.698107   \n",
      "3  Afghanistan  AFG  1993           0.160037              0.698257   \n",
      "4  Afghanistan  AFG  1994           0.160022              0.698469   \n",
      "\n",
      "   Eating disorders (%)  Anxiety disorders (%)  Depression (%) Income group  \\\n",
      "0              0.101855               4.828830        4.071831   Low income   \n",
      "1              0.099313               4.829740        4.079531   Low income   \n",
      "2              0.096692               4.831108        4.088358   Low income   \n",
      "3              0.094336               4.830864        4.096190   Low income   \n",
      "4              0.092439               4.829423        4.099582   Low income   \n",
      "\n",
      "   average_learning_Adjusted_of_school Continent  \n",
      "0                             4.957542      Asia  \n",
      "1                             4.957542      Asia  \n",
      "2                             4.957542      Asia  \n",
      "3                             4.957542      Asia  \n",
      "4                             4.957542      Asia  \n",
      "     Economy Code  Year  \\\n",
      "0    Albania  ALB  2020   \n",
      "1    Algeria  DZA  2020   \n",
      "2  Argentina  ARG  2020   \n",
      "3       Asia  NaN  2020   \n",
      "4  Australia  AUS  2020   \n",
      "\n",
      "   not_at_all_comfortable_speaking_anxiety_or_depression_percent  \n",
      "0                                          27.573915              \n",
      "1                                          11.403895              \n",
      "2                                          26.333920              \n",
      "3                                          26.522500              \n",
      "4                                          30.768505              \n",
      "       Economy Code  Year  Schizophrenia (%)  Bipolar disorder (%)  \\\n",
      "0  Afghanistan  AFG  1990           0.160560              0.697779   \n",
      "1  Afghanistan  AFG  1991           0.160312              0.697961   \n",
      "2  Afghanistan  AFG  1992           0.160135              0.698107   \n",
      "3  Afghanistan  AFG  1993           0.160037              0.698257   \n",
      "4  Afghanistan  AFG  1994           0.160022              0.698469   \n",
      "\n",
      "   Eating disorders (%)  Anxiety disorders (%)  Depression (%) Income group  \\\n",
      "0              0.101855               4.828830        4.071831   Low income   \n",
      "1              0.099313               4.829740        4.079531   Low income   \n",
      "2              0.096692               4.831108        4.088358   Low income   \n",
      "3              0.094336               4.830864        4.096190   Low income   \n",
      "4              0.092439               4.829423        4.099582   Low income   \n",
      "\n",
      "   average_learning_Adjusted_of_school Continent  GDP(2022)  \\\n",
      "0                             4.957542      Asia    14583.0   \n",
      "1                             4.957542      Asia    14583.0   \n",
      "2                             4.957542      Asia    14583.0   \n",
      "3                             4.957542      Asia    14583.0   \n",
      "4                             4.957542      Asia    14583.0   \n",
      "\n",
      "   not_at_all_comfortable_speaking_anxiety_or_depression_percent  \n",
      "0                                                NaN              \n",
      "1                                                NaN              \n",
      "2                                                NaN              \n",
      "3                                                NaN              \n",
      "4                                                NaN              \n",
      "(5488, 13)\n",
      "       Economy Code  Year  Schizophrenia (%)  Bipolar disorder (%)  \\\n",
      "0  Afghanistan  AFG  1990           0.160560              0.697779   \n",
      "1  Afghanistan  AFG  1991           0.160312              0.697961   \n",
      "2  Afghanistan  AFG  1992           0.160135              0.698107   \n",
      "3  Afghanistan  AFG  1993           0.160037              0.698257   \n",
      "4  Afghanistan  AFG  1994           0.160022              0.698469   \n",
      "\n",
      "   Eating disorders (%)  Anxiety disorders (%)  Depression (%) Income group  \\\n",
      "0              0.101855               4.828830        4.071831   Low income   \n",
      "1              0.099313               4.829740        4.079531   Low income   \n",
      "2              0.096692               4.831108        4.088358   Low income   \n",
      "3              0.094336               4.830864        4.096190   Low income   \n",
      "4              0.092439               4.829423        4.099582   Low income   \n",
      "\n",
      "   average_learning_Adjusted_of_school Continent  GDP(2022)  \\\n",
      "0                             4.957542      Asia    14583.0   \n",
      "1                             4.957542      Asia    14583.0   \n",
      "2                             4.957542      Asia    14583.0   \n",
      "3                             4.957542      Asia    14583.0   \n",
      "4                             4.957542      Asia    14583.0   \n",
      "\n",
      "   not_at_all_comfortable_speaking_anxiety_or_depression_percent  \\\n",
      "0                                                NaN               \n",
      "1                                                NaN               \n",
      "2                                                NaN               \n",
      "3                                                NaN               \n",
      "4                                                NaN               \n",
      "\n",
      "   GDP_per_capita  \n",
      "0             NaN  \n",
      "1             NaN  \n",
      "2             NaN  \n",
      "3             NaN  \n",
      "4             NaN  \n",
      "(5488, 14)\n"
     ]
    }
   ],
   "source": [
    "#F.clean the data named mental_health.xlsx and merge the dataframes\n",
    "\n",
    "df_mental_health = pd.read_excel('../Data/mental_health.xlsx')\n",
    "# show all the columns of the dataframe\n",
    "# mental_health_df.columns\n",
    "print(df_mental_health.head())\n",
    "# # drop the columns of the dataframes that do not belong to mental health disorders\n",
    "df_mental_health = df_mental_health.drop(columns=['Drug use disorders (%)', 'Alcohol use disorders (%)'])\n",
    "\n",
    "#rename the column Entity to Economy\n",
    "df_mental_health.rename(columns={'Entity':'Economy'},inplace=True)\n",
    "\n",
    "#drop the code column when the column Code is null\n",
    "df_mental_health=df_mental_health.dropna(subset=['Code'])\n",
    "\n",
    "#merge the dataframe df_mental_health to df_income_group\n",
    "df_mental_health_merge= df_mental_health.merge(df_income_group[['Code','Income group']], on='Code', how='left')\n",
    "\n",
    "#merge the dataframe df_education to df_mental_health_merge\n",
    "df_mental_health_merge=df_mental_health_merge.merge(df_education[['Code','average_learning_Adjusted_of_school']], on='Code', how='left')\n",
    "\n",
    "# merge the two dataframes countries_continents and mental_health_merge\n",
    "df_mental_health_merge=df_mental_health_merge.merge(df_Countries_Continents[['Economy','Continent']], on='Economy', how='left')\n",
    "print(df_mental_health_merge.head())\n",
    "\n",
    "#merge the dataframe df_GDP to df_mental_health_merge\n",
    "df_mental_health_merge=df_mental_health_merge.merge(df_GDP[['Code','GDP(2022)']], on='Code', how='left')\n",
    "print(df_discomfort_speaking_anxiety_depression_2020.head())\n",
    "\n",
    "#merge the dataframe df_discomfort_speaking_anxiety_depression_2020 to df_mental_health_merge\n",
    "df_mental_health_merge=df_mental_health_merge.merge(df_discomfort_speaking_anxiety_depression_2020[['Code','not_at_all_comfortable_speaking_anxiety_or_depression_percent']], on='Code', how='left')\n",
    "print(df_mental_health_merge.head())\n",
    "\n",
    "# print the shape of the dataframe df_mental_health_merge\n",
    "print(df_mental_health_merge.shape)\n",
    "#merge the dafaqframe df_gdp_per_captita_subset with df_mental_health_merge based on the column Economy and Year\n",
    "df_mental_health_merge=df_mental_health_merge.merge(df_gdp_per_captita_subset[['Economy','Year','GDP_per_capita']], on=['Economy','Year'], how='left')\n",
    "print(df_mental_health_merge.head())\n",
    "\n",
    "# print the shape of the dataframe df_mental_health_merge\n",
    "print(df_mental_health_merge.shape)\n",
    "#save the dataframe to csv file\n",
    "df_mental_health_merge.to_csv(\"../Cleaned_Data/mental_health.csv\", index=False)\n",
    "\n"
   ]
  }
 ],
 "metadata": {
  "kernelspec": {
   "display_name": "base",
   "language": "python",
   "name": "python3"
  },
  "language_info": {
   "codemirror_mode": {
    "name": "ipython",
    "version": 3
   },
   "file_extension": ".py",
   "mimetype": "text/x-python",
   "name": "python",
   "nbconvert_exporter": "python",
   "pygments_lexer": "ipython3",
   "version": "3.11.4"
  },
  "orig_nbformat": 4
 },
 "nbformat": 4,
 "nbformat_minor": 2
}
