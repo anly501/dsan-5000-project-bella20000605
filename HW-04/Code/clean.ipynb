{
 "cells": [
  {
   "cell_type": "code",
   "execution_count": 51,
   "metadata": {},
   "outputs": [
    {
     "name": "stdout",
     "output_type": "stream",
     "text": [
      "       Economy       2017  Schizophrenia (%)  Bipolar disorder (%)  \\\n",
      "0  Afghanistan    635.789           0.166158              0.708089   \n",
      "1      Albania   4525.887           0.201025              0.704480   \n",
      "2      Algeria   4014.707           0.197913              0.818687   \n",
      "3      Andorra  40017.741           0.263512              0.963331   \n",
      "4       Angola     4039.3           0.172794              0.623904   \n",
      "\n",
      "   Eating disorders (%)  Anxiety disorders (%)  Depression (%)  \n",
      "0              0.107142               4.882481        4.136347  \n",
      "1              0.174046               3.385245        2.208414  \n",
      "2              0.213612               5.065876        3.661094  \n",
      "3              0.644559               5.305375        3.729532  \n",
      "4              0.173643               3.296906        4.160484  \n"
     ]
    }
   ],
   "source": [
    "import pandas as pd\n",
    "import numpy as np\n",
    "\n",
    "df_mental_health = pd.read_csv('../Data/mental_health.csv')\n",
    "#select rows when Year=2017\n",
    "df_mental_health_2017 = df_mental_health[df_mental_health['Year']==2017]\n",
    "# print(df_mental_health_2017.head())\n",
    "\n",
    "df_gdp_per_capita = pd.read_csv('../Data/GDP_percaptita_mental_health_2017.csv')\n",
    "print(df_gdp_per_capita.head())\n",
    "\n",
    "# Merge the two DataFrames on the Economy column\n",
    "merged_df = df_gdp_per_capita.merge(df_mental_health_2017[['Economy', 'average_learning_Adjusted_of_school', 'Income group']], on='Economy', how='left')\n",
    "\n",
    "# # Display the merged DataFrame\n",
    "# print(merged_df.head())\n",
    "\n",
    "# Save the DataFrame to a CSV file\n",
    "merged_df.to_csv('../Data/merged_df.csv', index=False)"
   ]
  }
 ],
 "metadata": {
  "kernelspec": {
   "display_name": "base",
   "language": "python",
   "name": "python3"
  },
  "language_info": {
   "codemirror_mode": {
    "name": "ipython",
    "version": 3
   },
   "file_extension": ".py",
   "mimetype": "text/x-python",
   "name": "python",
   "nbconvert_exporter": "python",
   "pygments_lexer": "ipython3",
   "version": "3.11.4"
  },
  "orig_nbformat": 4
 },
 "nbformat": 4,
 "nbformat_minor": 2
}
